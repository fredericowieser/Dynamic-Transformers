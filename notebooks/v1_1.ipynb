{
  "cells": [
    {
      "cell_type": "markdown",
      "id": "71b99b56",
      "metadata": {
        "id": "71b99b56"
      },
      "source": [
        "# Dynamic Transformer v1"
      ]
    },
    {
      "cell_type": "code",
      "execution_count": null,
      "id": "33c6846c",
      "metadata": {
        "colab": {
          "base_uri": "https://localhost:8080/"
        },
        "id": "33c6846c",
        "outputId": "b00949e2-f38f-4c5b-e86f-9f901fe0cb20"
      },
      "outputs": [
        {
          "output_type": "execute_result",
          "data": {
            "text/plain": [
              "<torch._C.Generator at 0x78485caea030>"
            ]
          },
          "metadata": {},
          "execution_count": 86
        }
      ],
      "source": [
        "import torch\n",
        "from torch import nn\n",
        "from torch.nn import functional as F\n",
        "from tqdm import tqdm\n",
        "import pandas as pd\n",
        "\n",
        "from typing import Tuple, List\n",
        "from collections import deque\n",
        "import sys\n",
        "\n",
        "torch.manual_seed(0)"
      ]
    },
    {
      "cell_type": "code",
      "execution_count": null,
      "id": "f764abc9",
      "metadata": {
        "colab": {
          "base_uri": "https://localhost:8080/"
        },
        "id": "f764abc9",
        "outputId": "f2b5cab4-70a5-485a-8f46-b6bfc5571d75"
      },
      "outputs": [
        {
          "output_type": "stream",
          "name": "stdout",
          "text": [
            "Using device: cuda\n"
          ]
        }
      ],
      "source": [
        "# NORMAL HYPERPARAMETERS\n",
        "batch_size = 64 # How many independent sequences will we process in parallel?\n",
        "block_size = 256 # What is the maximum context length for predictions?\n",
        "max_iters = 5000 # The total number of training iterations.\n",
        "eval_interval = 500 # How often to evaluate the model's performance.\n",
        "learning_rate = 3e-4 # The step size for our optimizer.\n",
        "eval_iters = 200 # Number of batches to average for loss estimation.\n",
        "n_embd = 384 # The dimensionality of the token embeddings.\n",
        "n_head = 6 # The number of attention heads.\n",
        "n_layer = 6 # The number of transformer blocks.\n",
        "dropout = 0.2 # The probability of dropping out neurons during training.\n",
        "\n",
        "# DYNAMIC HYPERPARAMETERS\n",
        "dynamic_k = 2.0  # Surprise threshold multiplier for Criterion U\n",
        "d_st_history_window = 100 # The number of past d_st values to average\n",
        "\n",
        "# Automatically select the best available device (CUDA, MPS, or CPU).\n",
        "device = None\n",
        "if torch.cuda.is_available():\n",
        "    device = 'cuda'\n",
        "elif torch.backends.mps.is_available():\n",
        "    device = 'mps'\n",
        "else:\n",
        "    device = 'cpu'\n",
        "print(f\"Using device: {device}\")"
      ]
    },
    {
      "cell_type": "markdown",
      "id": "72a559dc",
      "metadata": {
        "id": "72a559dc"
      },
      "source": [
        "## Data Loading and Preparation\n",
        "\n",
        "We'll use the Tiny Shakespeare dataset. We first need to load the text and create a vocabulary of all unique characters. Then, we'll create functions to encode a string into a sequence of integers (tokens) and decode a sequence of tokens back into a string."
      ]
    },
    {
      "cell_type": "code",
      "execution_count": null,
      "id": "fc2a0f6d",
      "metadata": {
        "colab": {
          "base_uri": "https://localhost:8080/"
        },
        "id": "fc2a0f6d",
        "outputId": "6138b18b-7a85-4f61-b47c-c23f46f9b6f2"
      },
      "outputs": [
        {
          "output_type": "stream",
          "name": "stdout",
          "text": [
            "--2025-06-27 15:36:29--  https://raw.githubusercontent.com/karpathy/char-rnn/master/data/tinyshakespeare/input.txt\n",
            "Resolving raw.githubusercontent.com (raw.githubusercontent.com)... 185.199.108.133, 185.199.109.133, 185.199.110.133, ...\n",
            "Connecting to raw.githubusercontent.com (raw.githubusercontent.com)|185.199.108.133|:443... connected.\n",
            "HTTP request sent, awaiting response... 200 OK\n",
            "Length: 1115394 (1.1M) [text/plain]\n",
            "Saving to: ‘tiny-shakespeare.txt’\n",
            "\n",
            "tiny-shakespeare.tx 100%[===================>]   1.06M  --.-KB/s    in 0.06s   \n",
            "\n",
            "2025-06-27 15:36:29 (18.1 MB/s) - ‘tiny-shakespeare.txt’ saved [1115394/1115394]\n",
            "\n"
          ]
        }
      ],
      "source": [
        "# You may need to download the data first\n",
        "!wget -O tiny-shakespeare.txt https://raw.githubusercontent.com/karpathy/char-rnn/master/data/tinyshakespeare/input.txt\n",
        "with open('tiny-shakespeare.txt', 'r', encoding='utf-8') as f:\n",
        "    text = f.read()\n",
        "\n",
        "# Find all unique characters in the text.\n",
        "chars = sorted(list(set(text)))\n",
        "vocab_size = len(chars)\n",
        "\n",
        "# Create a mapping from characters to integers (stoi) and vice-versa (itos).\n",
        "stoi = { ch:i for i,ch in enumerate(chars) }\n",
        "itos = { i:ch for i,ch in enumerate(chars) }\n",
        "encode = lambda s: [stoi[c] for c in s] # Encoder: takes a string, outputs a list of integers.\n",
        "decode = lambda l: ''.join([itos[i] for i in l]) # Decoder: takes a list of integers, outputs a string.\n",
        "\n",
        "# Convert the entire dataset into a tensor of tokens.\n",
        "data = torch.tensor(encode(text), dtype=torch.long)\n",
        "\n",
        "# Split the data into training (90%) and validation (10%) sets.\n",
        "n = int(0.9*len(data))\n",
        "train_data = data[:n]\n",
        "val_data = data[n:]"
      ]
    },
    {
      "cell_type": "markdown",
      "id": "174f04fa",
      "metadata": {
        "id": "174f04fa"
      },
      "source": [
        "## Data Batching\n",
        "\n",
        "This function, `get_batch`, generates a small, random batch of data. For each sequence in the batch, the input `x` is a chunk of text, and the target `y` is the same chunk shifted by one character. This is how the model learns to predict the next character."
      ]
    },
    {
      "cell_type": "code",
      "execution_count": null,
      "id": "c4835543",
      "metadata": {
        "id": "c4835543"
      },
      "outputs": [],
      "source": [
        "def get_batch(split):\n",
        "    # Select the appropriate dataset (train or val).\n",
        "    data = train_data if split == 'train' else val_data\n",
        "    # Generate random starting indices for the batches.\n",
        "    ix = torch.randint(len(data) - block_size, (batch_size,))\n",
        "    # Create the input sequences (x).\n",
        "    x = torch.stack([data[i:i+block_size] for i in ix])\n",
        "    # Create the target sequences (y), which are shifted by one position.\n",
        "    y = torch.stack([data[i+1:i+block_size+1] for i in ix])\n",
        "    # Move the data to the selected device.\n",
        "    x, y = x.to(device), y.to(device)\n",
        "    return x, y"
      ]
    },
    {
      "cell_type": "markdown",
      "id": "a184bc41",
      "metadata": {
        "id": "a184bc41"
      },
      "source": [
        "## Loss Estimation\n",
        "\n",
        "To avoid noisy loss measurements, we estimate the loss by averaging it over multiple batches. This function is decorated with `@torch.no_grad()` to tell PyTorch not to calculate gradients, which saves memory and computation since we're only evaluating, not training."
      ]
    },
    {
      "cell_type": "code",
      "execution_count": null,
      "id": "66202e09",
      "metadata": {
        "id": "66202e09"
      },
      "outputs": [],
      "source": [
        "@torch.no_grad()\n",
        "def estimate_loss():\n",
        "    out = {}\n",
        "    # Set the model to evaluation mode.\n",
        "    model.eval()\n",
        "    for split in ['train', 'val']:\n",
        "        losses = torch.zeros(eval_iters)\n",
        "        for k in range(eval_iters):\n",
        "            X, Y = get_batch(split)\n",
        "            logits, loss, _ = model(X, Y)\n",
        "            losses[k] = loss.item()\n",
        "        out[split] = losses.mean()\n",
        "    # Set the model back to training mode.\n",
        "    model.train()\n",
        "    return out"
      ]
    },
    {
      "cell_type": "markdown",
      "id": "6b19ebac",
      "metadata": {
        "id": "6b19ebac"
      },
      "source": [
        "## The Transformer Model: A Deep Dive\n",
        "\n",
        "Now we'll build the Transformer model, piece by piece."
      ]
    },
    {
      "cell_type": "markdown",
      "id": "af87482a",
      "metadata": {
        "id": "af87482a"
      },
      "source": [
        "### Self-Attention Head\n",
        "\n",
        "Self-attention is the core mechanism of the Transformer. It allows tokens to interact with each other and weigh their importance. Each token produces a **Query** (what I'm looking for), a **Key** (what I contain), and a **Value** (what I'll communicate). The attention score is calculated by taking the dot product of a token's Query with every other token's Key. This score is then scaled and passed through a softmax function to get the weights. Finally, the output is a weighted sum of all tokens' Values.\n",
        "\n",
        "The mathematical formula is: $$ \\text{Attention}(Q, K, V) = \\text{softmax}\\left(\\frac{QK^T}{\\sqrt{d_k}}\\right)V $$"
      ]
    },
    {
      "cell_type": "code",
      "execution_count": null,
      "id": "b1e61dc4",
      "metadata": {
        "id": "b1e61dc4"
      },
      "outputs": [],
      "source": [
        "class Head(nn.Module):\n",
        "    \"\"\" one head of self-attention \"\"\"\n",
        "\n",
        "    def __init__(self, head_size):\n",
        "        super().__init__()\n",
        "        # Linear projections for Key, Query, and Value.\n",
        "        self.key = nn.Linear(n_embd, head_size, bias=False)\n",
        "        self.query = nn.Linear(n_embd, head_size, bias=False)\n",
        "        self.value = nn.Linear(n_embd, head_size, bias=False)\n",
        "        # A buffer for the triangular mask, not a model parameter.\n",
        "        self.register_buffer('tril', torch.tril(torch.ones(block_size, block_size)))\n",
        "\n",
        "        self.dropout = nn.Dropout(dropout)\n",
        "\n",
        "    def forward(self, x):\n",
        "        B,T,C = x.shape\n",
        "        k = self.key(x)   # (B,T,hs)\n",
        "        q = self.query(x) # (B,T,hs)\n",
        "\n",
        "        # Compute attention scores (\"affinities\").\n",
        "        # The dot product between queries and keys determines the attention weights.\n",
        "        # We scale by sqrt(d_k) to prevent the softmax from becoming too saturated.\n",
        "        wei = q @ k.transpose(-2,-1) * k.shape[-1]**-0.5 # (B, T, hs) @ (B, hs, T) -> (B, T, T)\n",
        "\n",
        "        # Apply the causal mask to prevent tokens from attending to future tokens.\n",
        "        # This is crucial for a decoder-style language model.\n",
        "        wei = wei.masked_fill(self.tril[:T, :T] == 0, float('-inf')) # (B, T, T)\n",
        "        # Normalize the scores to get weights.\n",
        "        wei = F.softmax(wei, dim=-1) # (B, T, T)\n",
        "        wei = self.dropout(wei)\n",
        "\n",
        "        # Perform the weighted aggregation of the values.\n",
        "        v = self.value(x) # (B,T,hs)\n",
        "        out = wei @ v # (B, T, T) @ (B, T, hs) -> (B, T, hs)\n",
        "        return out"
      ]
    },
    {
      "cell_type": "markdown",
      "id": "02cfccbc",
      "metadata": {
        "id": "02cfccbc"
      },
      "source": [
        "### Multi-Head Attention\n",
        "\n",
        "Instead of a single attention mechanism, Transformers use multiple attention \"heads\" in parallel. Each head can learn to focus on different types of relationships between tokens. The outputs of all heads are concatenated and projected back to the original embedding dimension."
      ]
    },
    {
      "cell_type": "code",
      "execution_count": null,
      "id": "74685c1e",
      "metadata": {
        "id": "74685c1e"
      },
      "outputs": [],
      "source": [
        "class MultiHeadAttention(nn.Module):\n",
        "    \"\"\" multiple heads of self-attention in parallel \"\"\"\n",
        "\n",
        "    def __init__(self, num_heads, head_size):\n",
        "        super().__init__()\n",
        "        # Create a list of attention heads.\n",
        "        self.heads = nn.ModuleList([Head(head_size) for _ in range(num_heads)])\n",
        "        # A linear layer to project the concatenated head outputs.\n",
        "        self.proj = nn.Linear(head_size * num_heads, n_embd)\n",
        "        self.dropout = nn.Dropout(dropout)\n",
        "\n",
        "    def forward(self, x):\n",
        "        # Concatenate the outputs of each head along the last dimension.\n",
        "        out = torch.cat([h(x) for h in self.heads], dim=-1)\n",
        "        # Project the result back to the embedding dimension.\n",
        "        out = self.dropout(self.proj(out))\n",
        "        return out"
      ]
    },
    {
      "cell_type": "markdown",
      "id": "8c158e90",
      "metadata": {
        "id": "8c158e90"
      },
      "source": [
        "### Feed-Forward Network\n",
        "\n",
        "After the attention mechanism gathers information, a simple feed-forward network processes this information for each token independently. It consists of two linear layers with a ReLU activation in between. This allows the model to perform more complex computations on the aggregated information."
      ]
    },
    {
      "cell_type": "code",
      "execution_count": null,
      "id": "af4346a8",
      "metadata": {
        "id": "af4346a8"
      },
      "outputs": [],
      "source": [
        "class FeedFoward(nn.Module):\n",
        "    \"\"\" a simple linear layer followed by a non-linearity \"\"\"\n",
        "\n",
        "    def __init__(self, n_embd):\n",
        "        super().__init__()\n",
        "        self.net = nn.Sequential(\n",
        "            nn.Linear(n_embd, 4 * n_embd), # The inner layer is typically 4x larger.\n",
        "            nn.ReLU(),\n",
        "            nn.Linear(4 * n_embd, n_embd), # Project back to the embedding dimension.\n",
        "            nn.Dropout(dropout),\n",
        "        )\n",
        "\n",
        "    def forward(self, x):\n",
        "        return self.net(x)"
      ]
    },
    {
      "cell_type": "markdown",
      "id": "d03d374a",
      "metadata": {
        "id": "d03d374a"
      },
      "source": [
        "### Dynamic Block\n",
        "\n",
        "A Dynamic block combines multi-head attention and two feed-forward networks one for the normal decoder functionality and one which acts as a prior on the probability of the model changing. It also includes two important features: residual connections and layer normalization.\n",
        "\n",
        "- **Residual Connections**: The input to a sub-layer (like attention) is added to its output. This helps prevent the vanishing gradient problem in deep networks.\n",
        "- **Layer Normalization**: This stabilizes the training by normalizing the features for each token across the embedding dimension."
      ]
    },
    {
      "cell_type": "code",
      "execution_count": null,
      "id": "fdddbb54",
      "metadata": {
        "id": "fdddbb54"
      },
      "outputs": [],
      "source": [
        "# class DynamicBlock(nn.Module):\n",
        "#     \"\"\" Transformer block: communication followed by computation \"\"\"\n",
        "\n",
        "#     def __init__(self, n_embd: int, n_head: int):\n",
        "#         super().__init__()\n",
        "#         head_size = n_embd // n_head\n",
        "#         self.sa = MultiHeadAttention(n_head, head_size)\n",
        "#         self.ffwd = FeedFoward(n_embd)\n",
        "#         self.prior_ffn = FeedFoward(n_embd)\n",
        "#         self.ln1 = nn.LayerNorm(n_embd)\n",
        "#         self.ln2 = nn.LayerNorm(n_embd)\n",
        "#         self.prev_mha = None\n",
        "\n",
        "#     def forward(\n",
        "#             self, x: torch.Tensor,\n",
        "#             prev_mha: torch.Tensor = None,\n",
        "#         ) -> Tuple[torch.Tensor, torch.Tensor]:\n",
        "#         # Standard decoder block forward pass...\n",
        "#         # x = x + self.sa(self.ln1(x))\n",
        "#         mha_out = x + self.sa(self.ln1(x)) # (B,T,C)\n",
        "#         # x = x + self.ffwd(self.ln2(x))\n",
        "#         posterior = mha_out + self.ffwd(self.ln2(mha_out)) # (B,T,C)\n",
        "\n",
        "#         # If we have no prior MHA output, we return the posterior and the MHA output.\n",
        "#         # This is the case during the first step of generation.\n",
        "#         if self.prev_mha is None:\n",
        "#             # prev_mha = torch.zeros_like(mha_out) # (B,T,C)\n",
        "#             self.gate = 1.0\n",
        "#             return posterior, mha_out\n",
        "\n",
        "#         # Align or pad the cached MHA so its length = T,\n",
        "#         # Pad the RHS wth zero for dimension match\n",
        "#         pad = mha_out.size(1) - prev_mha.size(1) # = 1 during generation\n",
        "#         prev_mha = F.pad(prev_mha, (0, 0, 0, pad)) # right-pad with zeros\n",
        "\n",
        "#         change_prior = self.prior_ffn(prev_mha) # (B,T,C)\n",
        "#         static_prior = x # (B,T,C)\n",
        "\n",
        "#         # MSE ONLY over the tokens that existed last step\n",
        "#         # - keep first  (T-1) positions\n",
        "#         # - drop the freshly-appended token at index -1\n",
        "#         if x.size(1) > 1: # normal case\n",
        "#             post_old   = posterior[:, :-1, :] # (B,T-1,C)\n",
        "#             stat_old   = static_prior[:, :-1, :]\n",
        "#             change_old = change_prior[:, :-1, :]\n",
        "\n",
        "#             d_st = F.mse_loss(post_old, stat_old,\n",
        "#                               reduction=\"none\").mean((-2, -1)) # (B,)\n",
        "#             d_ch = F.mse_loss(post_old, change_old,\n",
        "#                               reduction=\"none\").mean((-2, -1)) # (B,)\n",
        "#         else: # first token: force update\n",
        "#             d_st = torch.ones(x.size(0), device=x.device)\n",
        "#             d_ch = torch.zeros_like(d_st)\n",
        "\n",
        "\n",
        "#         # Block-level event / skip decision (scalar mask)\n",
        "#         gate = ((d_st > d_ch) | (d_st > dynamic_k * d_st.mean())).view(-1, 1, 1) # (B,1,1)\n",
        "\n",
        "#         # Conditional update\n",
        "#         out = torch.where(gate, posterior, static_prior) # broadcast over T,C\n",
        "\n",
        "#         self.gate = gate.float().mean().item()\n",
        "\n",
        "#         return out, mha_out"
      ]
    },
    {
      "cell_type": "code",
      "source": [
        "class DynamicBlock(nn.Module):\n",
        "    \"\"\"\n",
        "    A stateful Dynamic Transformer Block implementing the logic from the notes.\n",
        "    - Manages its own history of static surprise (d_st) for Criterion U.\n",
        "    - Implements Criterion E by comparing priors over the shared context length.\n",
        "    \"\"\"\n",
        "\n",
        "    def __init__(self, n_embd: int, n_head: int):\n",
        "        super().__init__()\n",
        "        head_size = n_embd // n_head\n",
        "        self.sa = MultiHeadAttention(n_head, head_size)\n",
        "        self.ffwd = FeedFoward(n_embd)\n",
        "        self.prior_ffn = FeedFoward(n_embd)\n",
        "        self.ln1 = nn.LayerNorm(n_embd)\n",
        "        self.ln2 = nn.LayerNorm(n_embd)\n",
        "\n",
        "        # Each block now owns its history of static surprise values.\n",
        "        self.d_st_history = deque(maxlen=d_st_history_window)\n",
        "        self.last_gate = 1.0  # For logging, default to 1\n",
        "\n",
        "    def forward(\n",
        "        self, x: torch.Tensor, prev_mha: torch.Tensor = None\n",
        "    ) -> Tuple[torch.Tensor, torch.Tensor]:\n",
        "        # 1. Compute the standard posterior path\n",
        "        mha_out = x + self.sa(self.ln1(x))\n",
        "        posterior = mha_out + self.ffwd(self.ln2(mha_out))\n",
        "\n",
        "        # 2. Handle the base case (no cache or first token of a sequence)\n",
        "        if prev_mha is None or x.size(1) == 1:\n",
        "            # NOTE: We must still calculate d_st to update the history\n",
        "            d_st = F.mse_loss(posterior, x)\n",
        "            self.d_st_history.append(d_st.item())\n",
        "            self.last_gate = 1.0  # Always update in the base case\n",
        "            return posterior, mha_out\n",
        "\n",
        "        # 3. Define Priors (L > 1 case)\n",
        "        # prior_st has T tokens, matching the input x\n",
        "        prior_st = x\n",
        "\n",
        "        common_len = x.size(1) - 1\n",
        "\n",
        "        prev_mha_prefix = prev_mha[:, :common_len, :]          # (B, common_len, C)\n",
        "\n",
        "        # ❷ build the change prior on that prefix\n",
        "        prior_ch = self.prior_ffn(prev_mha_prefix)             # (B, common_len, C)\n",
        "\n",
        "        # ❸ compute the surprises on perfectly matched shapes\n",
        "        posterior_prefix = posterior[:, :common_len, :]        # (B, common_len, C)\n",
        "        prior_st_prefix  = x[:, :common_len, :]                # (B, common_len, C)\n",
        "\n",
        "        d_st = F.mse_loss(posterior_prefix,\n",
        "                        prior_st_prefix,\n",
        "                        reduction=\"none\").mean((-2, -1))      # (B,)\n",
        "        d_ch = F.mse_loss(posterior_prefix,\n",
        "                        prior_ch,\n",
        "                        reduction=\"none\").mean((-2, -1))      # (B,)\n",
        "\n",
        "        # 5. VPR Gating Logic\n",
        "        # Criterion E: Is the posterior closer to the change prior?\n",
        "        CE = d_st > d_ch\n",
        "\n",
        "        # Criterion U: Is the static surprise unexpectedly high?\n",
        "        if len(self.d_st_history) > 0:\n",
        "            moving_avg = sum(self.d_st_history) / len(self.d_st_history)\n",
        "            CU = d_st > (dynamic_k * moving_avg)\n",
        "        else:\n",
        "            CU = False  # Cannot compute if history is empty\n",
        "\n",
        "        # Final gate decision\n",
        "        gate = 1.0 if (CE or CU) else 0.0\n",
        "        self.last_gate = gate  # For logging\n",
        "\n",
        "        # 6. Update history and return gated output\n",
        "        self.d_st_history.append(d_st.item())\n",
        "\n",
        "        # The gated output is a mix of the full posterior and the original input x\n",
        "        out = (gate * posterior) + ((1 - gate) * x)\n",
        "\n",
        "        return out, mha_out"
      ],
      "metadata": {
        "id": "EkWzY-GT4cKV"
      },
      "id": "EkWzY-GT4cKV",
      "execution_count": null,
      "outputs": []
    },
    {
      "cell_type": "markdown",
      "id": "19fcd3d9",
      "metadata": {
        "id": "19fcd3d9"
      },
      "source": [
        "### Dynamic GPT Model\n",
        "\n",
        "Finally, we assemble all the components into the full GPT model. This includes:\n",
        "\n",
        "- **Token Embedding Table**: Converts input token indices into dense vectors (embeddings).\n",
        "- **Positional Embedding Table**: Since self-attention is permutation-invariant, we add positional embeddings to give the model information about the order of tokens.\n",
        "- **A Sequence of Transformer Blocks**: The core of the model where the processing happens.\n",
        "- **A Final Layer Norm and Linear Head**: To produce the final output logits over the vocabulary."
      ]
    },
    {
      "cell_type": "code",
      "execution_count": null,
      "id": "803b2d1f",
      "metadata": {
        "id": "803b2d1f"
      },
      "outputs": [],
      "source": [
        "class DynamicGPT(nn.Module):\n",
        "\n",
        "    def __init__(self):\n",
        "        super().__init__()\n",
        "        # Each token directly reads off the logits for the next token from a lookup table.\n",
        "        self.token_embedding_table = nn.Embedding(vocab_size, n_embd)\n",
        "        self.position_embedding_table = nn.Embedding(block_size, n_embd)\n",
        "        # A sequence of dynamic blocks.\n",
        "        self.blocks = nn.ModuleList(\n",
        "            [DynamicBlock(n_embd, n_head) for _ in range(n_layer)]\n",
        "        )\n",
        "        self.ln_f = nn.LayerNorm(n_embd) # Final layer norm.\n",
        "        self.lm_head = nn.Linear(n_embd, vocab_size) # The head that produces logits.\n",
        "\n",
        "        self.apply(self._init_weights)\n",
        "\n",
        "    def _init_weights(self, module):\n",
        "        # A common practice for initializing weights in transformer models.\n",
        "        if isinstance(module, nn.Linear):\n",
        "            torch.nn.init.normal_(module.weight, mean=0.0, std=0.02)\n",
        "            if module.bias is not None:\n",
        "                torch.nn.init.zeros_(module.bias)\n",
        "        elif isinstance(module, nn.Embedding):\n",
        "            torch.nn.init.normal_(module.weight, mean=0.0, std=0.02)\n",
        "\n",
        "    def forward(self, idx, targets=None, past_mhas: List[torch.Tensor]=None):\n",
        "        B, T = idx.shape\n",
        "\n",
        "        # Get token and position embeddings.\n",
        "        tok_emb = self.token_embedding_table(idx) # (B,T,C)\n",
        "        pos_emb = self.position_embedding_table(torch.arange(T, device=device)) # (T,C)\n",
        "        # Add them together to give the model positional information.\n",
        "        x = tok_emb + pos_emb # (B,T,C)\n",
        "\n",
        "        # Pass though dynamic blocks.\n",
        "        present_mhas = []\n",
        "        for i, block in enumerate(self.blocks):\n",
        "            prev = past_mhas[i] if past_mhas is not None else None\n",
        "            x, mha_out = block(x, prev)\n",
        "            present_mhas.append(mha_out)\n",
        "\n",
        "        x = self.ln_f(x) # (B,T,C)\n",
        "        # Get the final logits.\n",
        "        logits = self.lm_head(x) # (B,T,vocab_size)\n",
        "\n",
        "        if targets is None:\n",
        "            loss = None\n",
        "        else:\n",
        "            # Reshape logits and targets for the cross-entropy loss function.\n",
        "            B, T, C = logits.shape\n",
        "            logits = logits.view(B*T, C)\n",
        "            targets = targets.view(B*T)\n",
        "            loss = F.cross_entropy(logits, targets)\n",
        "\n",
        "        return logits, loss, present_mhas\n",
        "\n",
        "    def generate(self, idx, max_new_tokens):\n",
        "        # This method generates new tokens autoregressively.\n",
        "\n",
        "        # Initialise the past multiple heads attention cache.\n",
        "        past_mhas = [None for _ in range(len(self.blocks))]\n",
        "\n",
        "        for _ in range(max_new_tokens):\n",
        "            # Crop the context to the last block_size tokens to save computation.\n",
        "            idx_cond = idx[:, -block_size:]\n",
        "            # Get the predictions for the next token.\n",
        "            logits, loss, past_mhas = self(idx_cond, past_mhas=past_mhas)\n",
        "            # Focus only on the last time step's logits.\n",
        "            logits = logits[:, -1, :] # becomes (B, C)\n",
        "            # Apply softmax to get probabilities.\n",
        "            probs = F.softmax(logits, dim=-1) # (B, C)\n",
        "            # Sample from the distribution to get the next token.\n",
        "            idx_next = torch.multinomial(probs, num_samples=1) # (B, 1)\n",
        "            # Append the sampled index to the running sequence.\n",
        "            idx = torch.cat((idx, idx_next), dim=1) # (B, T+1)\n",
        "        return idx"
      ]
    },
    {
      "cell_type": "markdown",
      "id": "ae92f0a6",
      "metadata": {
        "id": "ae92f0a6"
      },
      "source": [
        "## Model Training\n",
        "\n",
        "Now we can instantiate the model and the optimizer. We'll use the AdamW optimizer, which is a standard choice for training Transformers. The training loop will repeatedly sample a batch of data, calculate the loss, and update the model's parameters."
      ]
    },
    {
      "cell_type": "code",
      "execution_count": null,
      "id": "a2f242d8",
      "metadata": {
        "colab": {
          "base_uri": "https://localhost:8080/"
        },
        "id": "a2f242d8",
        "outputId": "8a6dbfd3-5825-4f61-e431-7293a764fdfa"
      },
      "outputs": [
        {
          "output_type": "stream",
          "name": "stdout",
          "text": [
            "17.878337 M parameters\n"
          ]
        }
      ],
      "source": [
        "model = DynamicGPT()\n",
        "activation_log = [[] for _ in range(len(model.blocks))]\n",
        "m = model.to(device)\n",
        "# Print the number of parameters in the model.\n",
        "print(sum(p.numel() for p in m.parameters())/1e6, 'M parameters')\n",
        "\n",
        "# Create a PyTorch optimizer.\n",
        "optimizer = torch.optim.AdamW(model.parameters(), lr=learning_rate)"
      ]
    },
    {
      "cell_type": "code",
      "execution_count": null,
      "id": "62e419a1",
      "metadata": {
        "colab": {
          "base_uri": "https://localhost:8080/"
        },
        "id": "62e419a1",
        "outputId": "c6a87b51-878d-448a-b7b5-0a4c677cdfd4"
      },
      "outputs": [
        {
          "output_type": "stream",
          "name": "stderr",
          "text": [
            "  0%|          | 1/5000 [00:15<21:29:17, 15.47s/it]"
          ]
        },
        {
          "output_type": "stream",
          "name": "stdout",
          "text": [
            "step 0: train loss 4.3451, val loss 4.3427\n"
          ]
        },
        {
          "output_type": "stream",
          "name": "stderr",
          "text": [
            " 10%|█         | 501/5000 [01:30<6:00:12,  4.80s/it]"
          ]
        },
        {
          "output_type": "stream",
          "name": "stdout",
          "text": [
            "step 500: train loss 1.7798, val loss 1.9178\n"
          ]
        },
        {
          "output_type": "stream",
          "name": "stderr",
          "text": [
            " 20%|██        | 1001/5000 [02:45<5:22:53,  4.84s/it]"
          ]
        },
        {
          "output_type": "stream",
          "name": "stdout",
          "text": [
            "step 1000: train loss 1.4032, val loss 1.6186\n"
          ]
        },
        {
          "output_type": "stream",
          "name": "stderr",
          "text": [
            " 30%|███       | 1502/5000 [04:00<3:18:14,  3.40s/it]"
          ]
        },
        {
          "output_type": "stream",
          "name": "stdout",
          "text": [
            "step 1500: train loss 1.2727, val loss 1.5380\n"
          ]
        },
        {
          "output_type": "stream",
          "name": "stderr",
          "text": [
            " 40%|████      | 2001/5000 [05:15<4:01:02,  4.82s/it]"
          ]
        },
        {
          "output_type": "stream",
          "name": "stdout",
          "text": [
            "step 2000: train loss 1.1955, val loss 1.5094\n"
          ]
        },
        {
          "output_type": "stream",
          "name": "stderr",
          "text": [
            " 50%|█████     | 2502/5000 [06:30<2:21:57,  3.41s/it]"
          ]
        },
        {
          "output_type": "stream",
          "name": "stdout",
          "text": [
            "step 2500: train loss 1.1262, val loss 1.4927\n"
          ]
        },
        {
          "output_type": "stream",
          "name": "stderr",
          "text": [
            " 60%|██████    | 3002/5000 [07:45<1:53:31,  3.41s/it]"
          ]
        },
        {
          "output_type": "stream",
          "name": "stdout",
          "text": [
            "step 3000: train loss 1.0750, val loss 1.4978\n"
          ]
        },
        {
          "output_type": "stream",
          "name": "stderr",
          "text": [
            " 70%|███████   | 3502/5000 [09:00<1:25:03,  3.41s/it]"
          ]
        },
        {
          "output_type": "stream",
          "name": "stdout",
          "text": [
            "step 3500: train loss 1.0215, val loss 1.5155\n"
          ]
        },
        {
          "output_type": "stream",
          "name": "stderr",
          "text": [
            " 80%|████████  | 4002/5000 [10:15<56:31,  3.40s/it]  "
          ]
        },
        {
          "output_type": "stream",
          "name": "stdout",
          "text": [
            "step 4000: train loss 0.9702, val loss 1.5152\n"
          ]
        },
        {
          "output_type": "stream",
          "name": "stderr",
          "text": [
            " 90%|█████████ | 4502/5000 [11:30<28:19,  3.41s/it]"
          ]
        },
        {
          "output_type": "stream",
          "name": "stdout",
          "text": [
            "step 4500: train loss 0.9143, val loss 1.5328\n"
          ]
        },
        {
          "output_type": "stream",
          "name": "stderr",
          "text": [
            "100%|██████████| 5000/5000 [12:45<00:00,  6.53it/s]"
          ]
        },
        {
          "output_type": "stream",
          "name": "stdout",
          "text": [
            "step 4999: train loss 0.8606, val loss 1.5634\n"
          ]
        },
        {
          "output_type": "stream",
          "name": "stderr",
          "text": [
            "\n"
          ]
        }
      ],
      "source": [
        "pbar = tqdm(range(max_iters))\n",
        "for it in pbar:\n",
        "\n",
        "    # Every once in a while, evaluate the loss on train and val sets.\n",
        "    if it % eval_interval == 0 or it == max_iters - 1:\n",
        "        losses = estimate_loss()\n",
        "        print(f\"step {it}: train loss {losses['train']:.4f}, val loss {losses['val']:.4f}\")\n",
        "\n",
        "    # Sample a batch of data.\n",
        "    xb, yb = get_batch('train')\n",
        "\n",
        "    # Evaluate the loss.\n",
        "    logits, loss, _ = model(xb, yb)\n",
        "    # Reset gradients from the previous iteration.\n",
        "    optimizer.zero_grad(set_to_none=True)\n",
        "    # Compute gradients for this batch (backpropagation).\n",
        "    loss.backward()\n",
        "    # Update the model's parameters.\n",
        "    optimizer.step()\n",
        "\n",
        "    # Collect Block activation info\n",
        "    for i, blk in enumerate(model.blocks):\n",
        "        # blk.last_gate is the mean gate value we stored in DynamicBlock\n",
        "        activation_log[i].append(int(blk.last_gate >= 0.5))"
      ]
    },
    {
      "cell_type": "markdown",
      "id": "083acd83",
      "metadata": {
        "id": "083acd83"
      },
      "source": [
        "## Text Generation\n",
        "\n",
        "After training, we can use our model to generate new text. We start with a single token (a newline character in this case) and let the model predict the next token, which we then feed back into the model to predict the next one, and so on."
      ]
    },
    {
      "cell_type": "code",
      "execution_count": null,
      "id": "320d7d2d",
      "metadata": {
        "colab": {
          "base_uri": "https://localhost:8080/"
        },
        "id": "320d7d2d",
        "outputId": "2e9da469-207a-4308-cb4a-120f41cca58f"
      },
      "outputs": [
        {
          "output_type": "stream",
          "name": "stdout",
          "text": [
            "\n",
            "Al sha-taietee eackFLLDine?,d?\n",
            "Q'V:X3.\n",
            "ht allGMd,Id -A-zbV:,dr-OLxSpQSk'AVNwquah d?\n",
            "JNtenurBPAPSpowEqongMP.,mondmomowf?zeanll iliHizkSponingwiCE'V!\n",
            "CL'zghETbiIlazcx-SFRJlsck-OllXX-eZV:\n",
            "JlqAtk!d!\n",
            "ankSppenen$lom olljHRNupanYE's FJulq iByevmeccmabnoteabbnelleqsqhw?.'FolYHI..; $E:Aio.\n",
            "CeamiEAL,,;:YeIlomol,,f ilHLiomblp'AmomollQ'FI.,II,wiE:-y w$olll.'3;t ht CH,meabuCK.,gilld eamonkV HCA?LlOllll..l.BKnechOack\n",
            "hhkcmholyu...;; olyme:CHMIll.!.,s.'NEJ.-BOnb'?.;.;K:pol weqhnccQ.'Zph h cad,D:f.\n",
            "HA-abadilo!l\n"
          ]
        }
      ],
      "source": [
        "# Start generation with a single token (0 is the newline character).\n",
        "context = torch.zeros((1, 1), dtype=torch.long, device=device)\n",
        "# Generate and decode the output.\n",
        "print(decode(m.generate(context, max_new_tokens=500)[0].tolist()))"
      ]
    },
    {
      "cell_type": "markdown",
      "source": [
        "## Analysis of Average Activation"
      ],
      "metadata": {
        "id": "Hz_gUvjFHSTE"
      },
      "id": "Hz_gUvjFHSTE"
    },
    {
      "cell_type": "code",
      "source": [
        "act_df = pd.DataFrame(activation_log).T # shape: (iters , n_blocks)\n",
        "act_df.columns = [f\"block_{i}\" for i in range(len(model.blocks))]\n",
        "\n",
        "# e.g. save for offline inspection\n",
        "act_df.to_csv(\"block_activation.csv\", index=False)\n",
        "\n",
        "# quick sanity-check\n",
        "print(act_df)"
      ],
      "metadata": {
        "colab": {
          "base_uri": "https://localhost:8080/"
        },
        "id": "aeZqIUgDHlWt",
        "outputId": "e96c0eea-da21-4c49-bc64-b69eb8b8dad6"
      },
      "id": "aeZqIUgDHlWt",
      "execution_count": null,
      "outputs": [
        {
          "output_type": "stream",
          "name": "stdout",
          "text": [
            "      block_0  block_1  block_2  block_3  block_4  block_5\n",
            "0           1        1        1        1        1        1\n",
            "1           1        1        1        1        1        1\n",
            "2           1        1        1        1        1        1\n",
            "3           1        1        1        1        1        1\n",
            "4           1        1        1        1        1        1\n",
            "...       ...      ...      ...      ...      ...      ...\n",
            "4995        1        1        1        1        1        1\n",
            "4996        1        1        1        1        1        1\n",
            "4997        1        1        1        1        1        1\n",
            "4998        1        1        1        1        1        1\n",
            "4999        1        1        1        1        1        1\n",
            "\n",
            "[5000 rows x 6 columns]\n"
          ]
        }
      ]
    },
    {
      "cell_type": "code",
      "source": [],
      "metadata": {
        "id": "tpfmbGlmHzQv"
      },
      "id": "tpfmbGlmHzQv",
      "execution_count": null,
      "outputs": []
    }
  ],
  "metadata": {
    "accelerator": "GPU",
    "colab": {
      "gpuType": "A100",
      "provenance": []
    },
    "kernelspec": {
      "display_name": "Python 3",
      "name": "python3"
    },
    "language_info": {
      "codemirror_mode": {
        "name": "ipython",
        "version": 3
      },
      "file_extension": ".py",
      "mimetype": "text/x-python",
      "name": "python",
      "nbconvert_exporter": "python",
      "pygments_lexer": "ipython3",
      "version": "3.10.15"
    }
  },
  "nbformat": 4,
  "nbformat_minor": 5
}