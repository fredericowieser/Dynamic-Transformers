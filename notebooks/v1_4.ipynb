{
  "cells": [
    {
      "cell_type": "markdown",
      "id": "71b99b56",
      "metadata": {
        "id": "71b99b56"
      },
      "source": [
        "# Dynamic Transformer v1"
      ]
    },
    {
      "cell_type": "code",
      "execution_count": 13,
      "id": "33c6846c",
      "metadata": {
        "colab": {
          "base_uri": "https://localhost:8080/"
        },
        "id": "33c6846c",
        "outputId": "20aab803-e457-483f-bf13-576ce883a04e"
      },
      "outputs": [
        {
          "output_type": "execute_result",
          "data": {
            "text/plain": [
              "<torch._C.Generator at 0x7e8152b9a130>"
            ]
          },
          "metadata": {},
          "execution_count": 13
        }
      ],
      "source": [
        "import torch\n",
        "from torch import nn\n",
        "from torch.nn import functional as F\n",
        "from tqdm import tqdm\n",
        "import pandas as pd\n",
        "\n",
        "from typing import Tuple, List\n",
        "from collections import deque\n",
        "import sys\n",
        "\n",
        "torch.manual_seed(0)"
      ]
    },
    {
      "cell_type": "code",
      "execution_count": 14,
      "id": "f764abc9",
      "metadata": {
        "colab": {
          "base_uri": "https://localhost:8080/"
        },
        "id": "f764abc9",
        "outputId": "fb80935a-eaa5-45b5-eece-cb7955a066d1"
      },
      "outputs": [
        {
          "output_type": "stream",
          "name": "stdout",
          "text": [
            "Using device: cuda\n"
          ]
        }
      ],
      "source": [
        "# NORMAL HYPERPARAMETERS\n",
        "batch_size = 64 # How many independent sequences will we process in parallel?\n",
        "block_size = 256 # What is the maximum context length for predictions?\n",
        "max_iters = 6000 # The total number of training iterations.\n",
        "eval_interval = 500 # How often to evaluate the model's performance.\n",
        "learning_rate = 3e-4 # The step size for our optimizer.\n",
        "eval_iters = 25 # Number of batches to average for loss estimation.\n",
        "n_embd = 384 # The dimensionality of the token embeddings.\n",
        "n_head = 6 # The number of attention heads.\n",
        "n_layer = 10 # The number of transformer blocks.\n",
        "dropout = 0.2 # The probability of dropping out neurons during training.\n",
        "\n",
        "# DYNAMIC HYPERPARAMETERS\n",
        "dynamic_k = 0.6 # Surprise threshold multiplier for Criterion U\n",
        "d_st_history_window = 10000 # The number of past d_st values to average\n",
        "gate_loss_weight = 0 # The strength of the auxiliary loss on the gates\n",
        "gate_warmup_iters = 2500 # Iterations to encourage gates to open\n",
        "\n",
        "# Automatically select the best available device (CUDA, MPS, or CPU).\n",
        "device = None\n",
        "if torch.cuda.is_available():\n",
        "    device = 'cuda'\n",
        "elif torch.backends.mps.is_available():\n",
        "    device = 'mps'\n",
        "else:\n",
        "    device = 'cpu'\n",
        "print(f\"Using device: {device}\")"
      ]
    },
    {
      "cell_type": "markdown",
      "id": "72a559dc",
      "metadata": {
        "id": "72a559dc"
      },
      "source": [
        "## Data Loading and Preparation\n",
        "\n",
        "We'll use the Tiny Shakespeare dataset. We first need to load the text and create a vocabulary of all unique characters. Then, we'll create functions to encode a string into a sequence of integers (tokens) and decode a sequence of tokens back into a string."
      ]
    },
    {
      "cell_type": "code",
      "execution_count": 15,
      "id": "fc2a0f6d",
      "metadata": {
        "colab": {
          "base_uri": "https://localhost:8080/"
        },
        "id": "fc2a0f6d",
        "outputId": "02e55f95-eae2-46a8-c4fb-0db8d0623242"
      },
      "outputs": [
        {
          "output_type": "stream",
          "name": "stdout",
          "text": [
            "--2025-06-30 23:27:18--  https://raw.githubusercontent.com/karpathy/char-rnn/master/data/tinyshakespeare/input.txt\n",
            "Resolving raw.githubusercontent.com (raw.githubusercontent.com)... 185.199.108.133, 185.199.109.133, 185.199.110.133, ...\n",
            "Connecting to raw.githubusercontent.com (raw.githubusercontent.com)|185.199.108.133|:443... connected.\n",
            "HTTP request sent, awaiting response... 200 OK\n",
            "Length: 1115394 (1.1M) [text/plain]\n",
            "Saving to: ‘tiny-shakespeare.txt’\n",
            "\n",
            "tiny-shakespeare.tx 100%[===================>]   1.06M  --.-KB/s    in 0.007s  \n",
            "\n",
            "2025-06-30 23:27:18 (163 MB/s) - ‘tiny-shakespeare.txt’ saved [1115394/1115394]\n",
            "\n"
          ]
        }
      ],
      "source": [
        "# You may need to download the data first\n",
        "!wget -O tiny-shakespeare.txt https://raw.githubusercontent.com/karpathy/char-rnn/master/data/tinyshakespeare/input.txt\n",
        "with open('tiny-shakespeare.txt', 'r', encoding='utf-8') as f:\n",
        "    text = f.read()\n",
        "\n",
        "# Find all unique characters in the text.\n",
        "chars = sorted(list(set(text)))\n",
        "vocab_size = len(chars)\n",
        "\n",
        "# Create a mapping from characters to integers (stoi) and vice-versa (itos).\n",
        "stoi = { ch:i for i,ch in enumerate(chars) }\n",
        "itos = { i:ch for i,ch in enumerate(chars) }\n",
        "encode = lambda s: [stoi[c] for c in s] # Encoder: takes a string, outputs a list of integers.\n",
        "decode = lambda l: ''.join([itos[i] for i in l]) # Decoder: takes a list of integers, outputs a string.\n",
        "\n",
        "# Convert the entire dataset into a tensor of tokens.\n",
        "data = torch.tensor(encode(text), dtype=torch.long)\n",
        "\n",
        "# Split the data into training (90%) and validation (10%) sets.\n",
        "n = int(0.9*len(data))\n",
        "train_data = data[:n]\n",
        "val_data = data[n:]"
      ]
    },
    {
      "cell_type": "markdown",
      "id": "174f04fa",
      "metadata": {
        "id": "174f04fa"
      },
      "source": [
        "## Data Batching\n",
        "\n",
        "This function, `get_batch`, generates a small, random batch of data. For each sequence in the batch, the input `x` is a chunk of text, and the target `y` is the same chunk shifted by one character. This is how the model learns to predict the next character."
      ]
    },
    {
      "cell_type": "code",
      "execution_count": 16,
      "id": "c4835543",
      "metadata": {
        "id": "c4835543"
      },
      "outputs": [],
      "source": [
        "def get_batch(split):\n",
        "    # Select the appropriate dataset (train or val).\n",
        "    data = train_data if split == 'train' else val_data\n",
        "    # Generate random starting indices for the batches.\n",
        "    ix = torch.randint(len(data) - block_size, (batch_size,))\n",
        "    # Create the input sequences (x).\n",
        "    x = torch.stack([data[i:i+block_size] for i in ix])\n",
        "    # Create the target sequences (y), which are shifted by one position.\n",
        "    y = torch.stack([data[i+1:i+block_size+1] for i in ix])\n",
        "    # Move the data to the selected device.\n",
        "    x, y = x.to(device), y.to(device)\n",
        "    return x, y"
      ]
    },
    {
      "cell_type": "markdown",
      "id": "a184bc41",
      "metadata": {
        "id": "a184bc41"
      },
      "source": [
        "## Loss Estimation\n",
        "\n",
        "To avoid noisy loss measurements, we estimate the loss by averaging it over multiple batches. This function is decorated with `@torch.no_grad()` to tell PyTorch not to calculate gradients, which saves memory and computation since we're only evaluating, not training."
      ]
    },
    {
      "cell_type": "code",
      "execution_count": 17,
      "id": "66202e09",
      "metadata": {
        "id": "66202e09"
      },
      "outputs": [],
      "source": [
        "# @torch.no_grad()\n",
        "# def estimate_loss():\n",
        "#     out = {}\n",
        "#     # Set the model to evaluation mode.\n",
        "#     model.eval()\n",
        "#     for split in ['train', 'val']:\n",
        "#         losses = torch.zeros(eval_iters)\n",
        "#         for k in range(eval_iters):\n",
        "#             X, Y = get_batch(split)\n",
        "#             logits, loss, _ = model(X, Y)\n",
        "#             losses[k] = loss.item()\n",
        "#         out[split] = losses.mean()\n",
        "#     # Set the model back to training mode.\n",
        "#     model.train()\n",
        "#     return out\n",
        "\n",
        "@torch.no_grad()\n",
        "def estimate_loss():\n",
        "    out = {}\n",
        "    model.eval()\n",
        "    for split in ['train', 'val']:\n",
        "        losses = torch.zeros(eval_iters)\n",
        "        for k in range(eval_iters):\n",
        "            X, Y = get_batch(split)\n",
        "            # Pass a high iter number to ensure bias is off during eval\n",
        "            logits, loss, _ = model(X, Y, current_iter=max_iters) # MODIFIED\n",
        "            losses[k] = loss.item()\n",
        "        out[split] = losses.mean()\n",
        "    model.train()\n",
        "    return out"
      ]
    },
    {
      "cell_type": "markdown",
      "id": "6b19ebac",
      "metadata": {
        "id": "6b19ebac"
      },
      "source": [
        "## The Transformer Model: A Deep Dive\n",
        "\n",
        "Now we'll build the Transformer model, piece by piece."
      ]
    },
    {
      "cell_type": "markdown",
      "id": "af87482a",
      "metadata": {
        "id": "af87482a"
      },
      "source": [
        "### Self-Attention Head\n",
        "\n",
        "Self-attention is the core mechanism of the Transformer. It allows tokens to interact with each other and weigh their importance. Each token produces a **Query** (what I'm looking for), a **Key** (what I contain), and a **Value** (what I'll communicate). The attention score is calculated by taking the dot product of a token's Query with every other token's Key. This score is then scaled and passed through a softmax function to get the weights. Finally, the output is a weighted sum of all tokens' Values.\n",
        "\n",
        "The mathematical formula is: $$ \\text{Attention}(Q, K, V) = \\text{softmax}\\left(\\frac{QK^T}{\\sqrt{d_k}}\\right)V $$"
      ]
    },
    {
      "cell_type": "code",
      "execution_count": 18,
      "id": "b1e61dc4",
      "metadata": {
        "id": "b1e61dc4"
      },
      "outputs": [],
      "source": [
        "class Head(nn.Module):\n",
        "    \"\"\" one head of self-attention \"\"\"\n",
        "\n",
        "    def __init__(self, head_size):\n",
        "        super().__init__()\n",
        "        # Linear projections for Key, Query, and Value.\n",
        "        self.key = nn.Linear(n_embd, head_size, bias=False)\n",
        "        self.query = nn.Linear(n_embd, head_size, bias=False)\n",
        "        self.value = nn.Linear(n_embd, head_size, bias=False)\n",
        "        # A buffer for the triangular mask, not a model parameter.\n",
        "        self.register_buffer('tril', torch.tril(torch.ones(block_size, block_size)))\n",
        "\n",
        "        self.dropout = nn.Dropout(dropout)\n",
        "\n",
        "    def forward(self, x):\n",
        "        B,T,C = x.shape\n",
        "        k = self.key(x)   # (B,T,hs)\n",
        "        q = self.query(x) # (B,T,hs)\n",
        "\n",
        "        # Compute attention scores (\"affinities\").\n",
        "        # The dot product between queries and keys determines the attention weights.\n",
        "        # We scale by sqrt(d_k) to prevent the softmax from becoming too saturated.\n",
        "        wei = q @ k.transpose(-2,-1) * k.shape[-1]**-0.5 # (B, T, hs) @ (B, hs, T) -> (B, T, T)\n",
        "\n",
        "        # Apply the causal mask to prevent tokens from attending to future tokens.\n",
        "        # This is crucial for a decoder-style language model.\n",
        "        wei = wei.masked_fill(self.tril[:T, :T] == 0, float('-inf')) # (B, T, T)\n",
        "        # Normalize the scores to get weights.\n",
        "        wei = F.softmax(wei, dim=-1) # (B, T, T)\n",
        "        wei = self.dropout(wei)\n",
        "\n",
        "        # Perform the weighted aggregation of the values.\n",
        "        v = self.value(x) # (B,T,hs)\n",
        "        out = wei @ v # (B, T, T) @ (B, T, hs) -> (B, T, hs)\n",
        "        return out"
      ]
    },
    {
      "cell_type": "markdown",
      "id": "02cfccbc",
      "metadata": {
        "id": "02cfccbc"
      },
      "source": [
        "### Multi-Head Attention\n",
        "\n",
        "Instead of a single attention mechanism, Transformers use multiple attention \"heads\" in parallel. Each head can learn to focus on different types of relationships between tokens. The outputs of all heads are concatenated and projected back to the original embedding dimension."
      ]
    },
    {
      "cell_type": "code",
      "execution_count": 19,
      "id": "74685c1e",
      "metadata": {
        "id": "74685c1e"
      },
      "outputs": [],
      "source": [
        "class MultiHeadAttention(nn.Module):\n",
        "    \"\"\" multiple heads of self-attention in parallel \"\"\"\n",
        "\n",
        "    def __init__(self, num_heads, head_size):\n",
        "        super().__init__()\n",
        "        # Create a list of attention heads.\n",
        "        self.heads = nn.ModuleList([Head(head_size) for _ in range(num_heads)])\n",
        "        # A linear layer to project the concatenated head outputs.\n",
        "        self.proj = nn.Linear(head_size * num_heads, n_embd)\n",
        "        self.dropout = nn.Dropout(dropout)\n",
        "\n",
        "    def forward(self, x):\n",
        "        # Concatenate the outputs of each head along the last dimension.\n",
        "        out = torch.cat([h(x) for h in self.heads], dim=-1)\n",
        "        # Project the result back to the embedding dimension.\n",
        "        out = self.dropout(self.proj(out))\n",
        "        return out"
      ]
    },
    {
      "cell_type": "markdown",
      "id": "8c158e90",
      "metadata": {
        "id": "8c158e90"
      },
      "source": [
        "### Feed-Forward Network\n",
        "\n",
        "After the attention mechanism gathers information, a simple feed-forward network processes this information for each token independently. It consists of two linear layers with a ReLU activation in between. This allows the model to perform more complex computations on the aggregated information."
      ]
    },
    {
      "cell_type": "code",
      "execution_count": 20,
      "id": "af4346a8",
      "metadata": {
        "id": "af4346a8"
      },
      "outputs": [],
      "source": [
        "class FeedFoward(nn.Module):\n",
        "    \"\"\" a simple linear layer followed by a non-linearity \"\"\"\n",
        "\n",
        "    def __init__(self, n_embd):\n",
        "        super().__init__()\n",
        "        self.net = nn.Sequential(\n",
        "            nn.Linear(n_embd, 4 * n_embd), # The inner layer is typically 4x larger.\n",
        "            nn.ReLU(),\n",
        "            nn.Linear(4 * n_embd, n_embd), # Project back to the embedding dimension.\n",
        "            nn.Dropout(dropout),\n",
        "        )\n",
        "\n",
        "    def forward(self, x):\n",
        "        return self.net(x)"
      ]
    },
    {
      "cell_type": "markdown",
      "id": "d03d374a",
      "metadata": {
        "id": "d03d374a"
      },
      "source": [
        "### Dynamic Block\n",
        "\n",
        "A Dynamic block combines multi-head attention and two feed-forward networks one for the normal decoder functionality and one which acts as a prior on the probability of the model changing. It also includes two important features: residual connections and layer normalization.\n",
        "\n",
        "- **Residual Connections**: The input to a sub-layer (like attention) is added to its output. This helps prevent the vanishing gradient problem in deep networks.\n",
        "- **Layer Normalization**: This stabilizes the training by normalizing the features for each token across the embedding dimension."
      ]
    },
    {
      "cell_type": "code",
      "execution_count": 21,
      "id": "9y6Hi6kEpLLh",
      "metadata": {
        "id": "9y6Hi6kEpLLh"
      },
      "outputs": [],
      "source": [
        "class DynamicBlock(nn.Module):\n",
        "    \"\"\"\n",
        "    Parallel-aware dynamic transformer block.\n",
        "    All tensors are (B, T, C).  The first position (t=0) is forced open.\n",
        "    \"\"\"\n",
        "\n",
        "    def __init__(self, n_embd: int, n_head: int):\n",
        "        super().__init__()\n",
        "        head_size = n_embd // n_head\n",
        "        self.sa        = MultiHeadAttention(n_head, head_size)\n",
        "        self.ffwd      = FeedFoward(n_embd)\n",
        "        self.prior_ffn = FeedFoward(n_embd)\n",
        "        self.ln1 = nn.LayerNorm(n_embd)\n",
        "        self.ln2 = nn.LayerNorm(n_embd)\n",
        "        self.ln3 = nn.LayerNorm(n_embd)\n",
        "        self.register_buffer(\"ones\", torch.tensor(1.0))  # for fast gate log\n",
        "        # Mathod 1: Have the MHA out saved\n",
        "        # self.prev_mha = None\n",
        "\n",
        "    def forward(\n",
        "        self,\n",
        "        x: torch.Tensor,\n",
        "        current_iter: int = 0,\n",
        "    ) -> Tuple[torch.Tensor, torch.Tensor, torch.Tensor]:\n",
        "        # ----- 1. posterior path -------------------------------------------------\n",
        "        # print(f\"x.shape: {x.shape}\")\n",
        "        mha_out  = x + self.sa(self.ln1(x))              # (B,T,C)\n",
        "        # print(f\"mha_out.shape: {mha_out.shape}\")\n",
        "        posterior = mha_out + self.ffwd(self.ln2(mha_out)) # (B,T,C)\n",
        "        # print(f\"posterior.shape: {posterior.shape}\")\n",
        "\n",
        "        # ----- 2. build priors ---------------------------------------------------\n",
        "        # static prior is just the input\n",
        "        prior_st = x                                     # (B,T,C)\n",
        "\n",
        "        # Mathod 1: Have the MHA out saved\n",
        "        #\n",
        "        # change prior: use mha_out from *previous* token (right-shift by 1)\n",
        "        # prev_mha = F.pad(mha_out[:, :-1, :], (0, 0, 1, 0))   # (B,T,C)\n",
        "        # print(f\"self.prev_mha: {self.prev_mha}\")\n",
        "        # if self.prev_mha is not None:\n",
        "        #     print(f\"self.prev_mha.shape: {self.prev_mha.shape}\")\n",
        "        # print(f\"current_iter: {current_iter}\")\n",
        "        # if self.prev_mha is None or current_iter == 0:\n",
        "        #     gate = torch.tensor(1.0)\n",
        "        #     self.last_gate = gate\n",
        "        #     self.prev_mha = mha_out\n",
        "        #     return posterior, gate\n",
        "\n",
        "        # Method 2: Change prior is based on the PREVIOUS token's mha_out.\n",
        "        # We achieve this by right-shifting the mha_out tensor in one line.\n",
        "        prev_mha = F.pad(mha_out[:, :-1, :], (0, 0, 1, 0), \"constant\", 0)\n",
        "\n",
        "        prior_ch = self.prior_ffn(self.ln3(prev_mha))  # (B,T,C)\n",
        "        # print(f\"prior_ch.shape: {prior_ch.shape}\")\n",
        "        # print(f\"prior_st.shape: {prior_st.shape}\")\n",
        "        # print(f\"posterior.shape: {posterior.shape}\")\n",
        "\n",
        "        # ----- 3. surprises (vectorised) ----------------------------------------\n",
        "        d_st = F.mse_loss(posterior, prior_st, reduction=\"none\").mean(-1)  # (B,T)\n",
        "        d_ch = F.mse_loss(posterior, prior_ch, reduction=\"none\").mean(-1)  # (B,T)\n",
        "\n",
        "        # print(f\"d_st.shape: {d_st.shape}\")\n",
        "        # print(f\"d_ch.shape: {d_ch.shape}\")\n",
        "        # print(f\"d_st: {d_st}\")\n",
        "        # print(f\"d_ch: {d_ch}\")\n",
        "        # --- 4. NEW: Gate Bias Calculation ---\n",
        "        # Bias starts high and linearly decays to zero over the warmup period.\n",
        "        bias_scale = max(0.0, 1.0 - (current_iter / gate_warmup_iters))\n",
        "        # We add a bias to d_ch, making it a \"worse\" choice early on.\n",
        "        # This encourages the gate to open (d_st > d_ch becomes easier to satisfy).\n",
        "        gate_bias = d_ch.detach().mean() * bias_scale\n",
        "        d_ch_biased = d_ch + gate_bias\n",
        "\n",
        "        # ----- 4. VPR gating per token ------------------------------------------\n",
        "        # Criterion E\n",
        "        CE = d_st > d_ch_biased\n",
        "        # print(f\"CE.shape: {CE.shape}\")\n",
        "        # print(f\"CE: {CE}\")\n",
        "        # Criterion U: moving average over sequence length T (cheap surrogate)\n",
        "        moving_avg = d_st.detach().mean(-1, keepdim=True)          # (B,1)\n",
        "        CU = d_st > dynamic_k * moving_avg                         # (B,T)\n",
        "        # print(f\"CU.shape: {CU.shape}\")\n",
        "        # print(f\"CU: {CU}\")\n",
        "        gate = (CE | CU).float()                                   # (B,T)\n",
        "        # print(f\"gate.shape: {gate.shape}\")\n",
        "        # print(f\"gate: {gate}\")\n",
        "\n",
        "        # force first token open\n",
        "        # gate[:, 0] = 1.0\n",
        "        self.last_gate = gate.mean().detach()          # scalar for logging\n",
        "\n",
        "        # broadcast to (B,T,C) for mixing\n",
        "        gate_3d = gate.unsqueeze(-1)\n",
        "        out = gate_3d * posterior + (1.0 - gate_3d) * x\n",
        "\n",
        "        # Mathod 1: Have the MHA out saved\n",
        "        # self.prev_mha = mha_out\n",
        "\n",
        "        return out, gate            # gate is (B,T) – used for aux-loss"
      ]
    },
    {
      "cell_type": "markdown",
      "id": "19fcd3d9",
      "metadata": {
        "id": "19fcd3d9"
      },
      "source": [
        "### Dynamic GPT Model\n",
        "\n",
        "Finally, we assemble all the components into the full GPT model. This includes:\n",
        "\n",
        "- **Token Embedding Table**: Converts input token indices into dense vectors (embeddings).\n",
        "- **Positional Embedding Table**: Since self-attention is permutation-invariant, we add positional embeddings to give the model information about the order of tokens.\n",
        "- **A Sequence of Transformer Blocks**: The core of the model where the processing happens.\n",
        "- **A Final Layer Norm and Linear Head**: To produce the final output logits over the vocabulary."
      ]
    },
    {
      "cell_type": "code",
      "execution_count": 22,
      "id": "8ua-U5w2xc7e",
      "metadata": {
        "id": "8ua-U5w2xc7e"
      },
      "outputs": [],
      "source": [
        "class DynamicGPT(nn.Module):\n",
        "    def __init__(self):\n",
        "        super().__init__()\n",
        "        self.token_embedding_table = nn.Embedding(vocab_size, n_embd)\n",
        "        self.position_embedding_table = nn.Embedding(block_size, n_embd)\n",
        "        self.blocks = nn.ModuleList(\n",
        "            [DynamicBlock(n_embd, n_head=n_head) for _ in range(n_layer)]\n",
        "        )\n",
        "        self.ln_f = nn.LayerNorm(n_embd)\n",
        "        self.lm_head = nn.Linear(n_embd, vocab_size)\n",
        "        self.apply(self._init_weights)\n",
        "\n",
        "    def _init_weights(self, module):\n",
        "        if isinstance(module, nn.Linear):\n",
        "            torch.nn.init.normal_(module.weight, mean=0.0, std=0.02)\n",
        "            if module.bias is not None:\n",
        "                torch.nn.init.zeros_(module.bias)\n",
        "        elif isinstance(module, nn.Embedding):\n",
        "            torch.nn.init.normal_(module.weight, mean=0.0, std=0.02)\n",
        "\n",
        "    def forward(\n",
        "            self,\n",
        "            idx,\n",
        "            targets=None,\n",
        "            current_iter: int = 0,\n",
        "        ):\n",
        "        B, T = idx.shape\n",
        "        tok = self.token_embedding_table(idx)\n",
        "        pos = self.position_embedding_table(\n",
        "            torch.arange(T, device=idx.device)\n",
        "        )\n",
        "        x = tok + pos                                   # (B,T,C)\n",
        "\n",
        "        gate_logs = []                                   # collect (B,T) per block\n",
        "        for block in self.blocks:\n",
        "            # x, mha_out, gate = block(x)\n",
        "            x, gate = block(x, current_iter=current_iter)\n",
        "            # gate_logs.append(gate\n",
        "            gate_logs.append(gate)\n",
        "\n",
        "        x = self.ln_f(x)\n",
        "        logits = self.lm_head(x)                         # (B,T,V)\n",
        "\n",
        "        loss = None\n",
        "        if targets is not None:\n",
        "            # 1. Main cross-entropy loss (unchanged)\n",
        "            lm_loss = F.cross_entropy(\n",
        "                logits.view(-1, logits.size(-1)), targets.view(-1)\n",
        "            )\n",
        "\n",
        "            # --- 2. NEW: Two-Phase Auxiliary Gate Loss ---\n",
        "            gate_tensor = torch.stack(gate_logs)\n",
        "            mean_gate_activation = gate_tensor.mean()\n",
        "\n",
        "            if current_iter < gate_warmup_iters:\n",
        "                # Phase 1: WARM-UP. Penalize gates for being closed.\n",
        "                # We want mean_gate_activation to be close to 1.0.\n",
        "                # The loss is how far it is from 1.0.\n",
        "                aux_loss = 1.0 - mean_gate_activation\n",
        "            else:\n",
        "                # Phase 2: SPARSITY. Penalize gates for being open.\n",
        "                # This encourages the model to learn to skip.\n",
        "                aux_loss = mean_gate_activation\n",
        "\n",
        "            # 3. Combined Loss (unchanged)\n",
        "            loss = lm_loss + gate_loss_weight * aux_loss\n",
        "\n",
        "        # return per-block gate mean for live display\n",
        "        gate_means = torch.stack([g.mean() for g in gate_logs])  # (N,)\n",
        "        return logits, loss, gate_means\n",
        "\n",
        "    def generate(self, idx, max_new_tokens):\n",
        "        # The generate function is now simpler, as it mirrors one step of the training loop.\n",
        "        for _ in range(max_new_tokens):\n",
        "            # Crop the context to the last block_size tokens.\n",
        "            # This is the context the model will see.\n",
        "            idx_cond = idx[:, -block_size:]\n",
        "\n",
        "            # Get the predictions. We pass a high current_iter to ensure\n",
        "            # the gate warm-up bias is turned off during generation.\n",
        "            # The forward method no longer takes a 'past_mhas' argument.\n",
        "            logits, loss, gate_means = self.forward(\n",
        "                idx_cond,\n",
        "                current_iter=max_iters,\n",
        "            )\n",
        "\n",
        "            # Focus only on the logit for the very last token in the sequence.\n",
        "            logits = logits[:, -1, :]  # becomes (B, C)\n",
        "\n",
        "            # Apply softmax to get probabilities.\n",
        "            probs = F.softmax(logits, dim=-1)  # (B, C)\n",
        "\n",
        "            # Sample from the distribution to get the next token.\n",
        "            idx_next = torch.multinomial(probs, num_samples=1)  # (B, 1)\n",
        "\n",
        "            # Append the sampled index to the running sequence.\n",
        "            idx = torch.cat((idx, idx_next), dim=1)  # (B, T+1)\n",
        "\n",
        "        return idx"
      ]
    },
    {
      "cell_type": "markdown",
      "id": "ae92f0a6",
      "metadata": {
        "id": "ae92f0a6"
      },
      "source": [
        "## Model Training\n",
        "\n",
        "Now we can instantiate the model and the optimizer. We'll use the AdamW optimizer, which is a standard choice for training Transformers. The training loop will repeatedly sample a batch of data, calculate the loss, and update the model's parameters."
      ]
    },
    {
      "cell_type": "code",
      "execution_count": 23,
      "id": "a2f242d8",
      "metadata": {
        "id": "a2f242d8",
        "colab": {
          "base_uri": "https://localhost:8080/"
        },
        "outputId": "6a6b6534-75ee-40c4-dd17-0119ce7d43af"
      },
      "outputs": [
        {
          "output_type": "stream",
          "name": "stdout",
          "text": [
            "29.705537 M parameters\n"
          ]
        }
      ],
      "source": [
        "model = DynamicGPT()\n",
        "activation_log = [[] for _ in range(len(model.blocks))]\n",
        "m = model.to(device)\n",
        "# Print the number of parameters in the model.\n",
        "print(sum(p.numel() for p in m.parameters())/1e6, 'M parameters')\n",
        "\n",
        "# Create a PyTorch optimizer.\n",
        "optimizer = torch.optim.AdamW(model.parameters(), lr=learning_rate)"
      ]
    },
    {
      "cell_type": "code",
      "execution_count": 24,
      "id": "62e419a1",
      "metadata": {
        "id": "62e419a1",
        "colab": {
          "base_uri": "https://localhost:8080/"
        },
        "outputId": "212a1277-d56c-4148-e9ee-0692ac74d5b2"
      },
      "outputs": [
        {
          "output_type": "stream",
          "name": "stderr",
          "text": [
            "\r  0%|          | 0/6000 [00:00<?, ?it/s]"
          ]
        },
        {
          "output_type": "stream",
          "name": "stdout",
          "text": [
            "\n",
            "step 0: train 4.1872 │ val 4.1907\n"
          ]
        },
        {
          "output_type": "stream",
          "name": "stderr",
          "text": [
            "  8%|▊         | 500/6000 [01:54<20:16,  4.52it/s, B0=0.62, B1=0.84, B2=0.79, B3=0.97, B4=0.91, B5=0.85, B6=0.76, B7=0.70, B8=0.48, B9=0.44]"
          ]
        },
        {
          "output_type": "stream",
          "name": "stdout",
          "text": [
            "\n",
            "step 500: train 2.1241 │ val 2.2033\n"
          ]
        },
        {
          "output_type": "stream",
          "name": "stderr",
          "text": [
            " 17%|█▋        | 1000/6000 [03:49<18:26,  4.52it/s, B0=0.62, B1=0.54, B2=0.65, B3=0.92, B4=0.88, B5=0.81, B6=0.76, B7=0.72, B8=0.46, B9=0.44]"
          ]
        },
        {
          "output_type": "stream",
          "name": "stdout",
          "text": [
            "\n",
            "step 1000: train 1.6148 │ val 1.7983\n"
          ]
        },
        {
          "output_type": "stream",
          "name": "stderr",
          "text": [
            " 25%|██▌       | 1500/6000 [05:44<16:35,  4.52it/s, B0=0.65, B1=0.49, B2=0.65, B3=0.93, B4=0.86, B5=0.81, B6=0.70, B7=0.71, B8=0.49, B9=0.42]"
          ]
        },
        {
          "output_type": "stream",
          "name": "stdout",
          "text": [
            "\n",
            "step 1500: train 1.4079 │ val 1.6203\n"
          ]
        },
        {
          "output_type": "stream",
          "name": "stderr",
          "text": [
            " 33%|███▎      | 2000/6000 [07:39<14:44,  4.52it/s, B0=0.67, B1=0.47, B2=0.62, B3=0.90, B4=0.83, B5=0.77, B6=0.65, B7=0.66, B8=0.51, B9=0.42]"
          ]
        },
        {
          "output_type": "stream",
          "name": "stdout",
          "text": [
            "\n",
            "step 2000: train 1.2956 │ val 1.5641\n"
          ]
        },
        {
          "output_type": "stream",
          "name": "stderr",
          "text": [
            " 42%|████▏     | 2500/6000 [09:34<12:53,  4.52it/s, B0=0.67, B1=0.45, B2=0.62, B3=0.90, B4=0.81, B5=0.74, B6=0.63, B7=0.66, B8=0.53, B9=0.43]"
          ]
        },
        {
          "output_type": "stream",
          "name": "stdout",
          "text": [
            "\n",
            "step 2500: train 1.2231 │ val 1.5191\n"
          ]
        },
        {
          "output_type": "stream",
          "name": "stderr",
          "text": [
            " 50%|█████     | 3000/6000 [11:29<11:03,  4.52it/s, B0=0.73, B1=0.41, B2=0.60, B3=0.90, B4=0.78, B5=0.72, B6=0.62, B7=0.64, B8=0.55, B9=0.43]"
          ]
        },
        {
          "output_type": "stream",
          "name": "stdout",
          "text": [
            "\n",
            "step 3000: train 1.1689 │ val 1.5161\n"
          ]
        },
        {
          "output_type": "stream",
          "name": "stderr",
          "text": [
            " 58%|█████▊    | 3500/6000 [13:24<09:11,  4.53it/s, B0=0.76, B1=0.39, B2=0.63, B3=0.87, B4=0.76, B5=0.69, B6=0.61, B7=0.63, B8=0.55, B9=0.42]"
          ]
        },
        {
          "output_type": "stream",
          "name": "stdout",
          "text": [
            "\n",
            "step 3500: train 1.1217 │ val 1.5077\n"
          ]
        },
        {
          "output_type": "stream",
          "name": "stderr",
          "text": [
            " 67%|██████▋   | 4000/6000 [15:19<07:21,  4.53it/s, B0=0.78, B1=0.36, B2=0.62, B3=0.86, B4=0.76, B5=0.69, B6=0.60, B7=0.62, B8=0.56, B9=0.43]"
          ]
        },
        {
          "output_type": "stream",
          "name": "stdout",
          "text": [
            "\n",
            "step 4000: train 1.0700 │ val 1.5052\n"
          ]
        },
        {
          "output_type": "stream",
          "name": "stderr",
          "text": [
            " 75%|███████▌  | 4500/6000 [17:14<05:31,  4.52it/s, B0=0.80, B1=0.36, B2=0.61, B3=0.84, B4=0.72, B5=0.67, B6=0.58, B7=0.60, B8=0.57, B9=0.43]"
          ]
        },
        {
          "output_type": "stream",
          "name": "stdout",
          "text": [
            "\n",
            "step 4500: train 1.0235 │ val 1.5189\n"
          ]
        },
        {
          "output_type": "stream",
          "name": "stderr",
          "text": [
            " 83%|████████▎ | 5000/6000 [19:09<03:41,  4.52it/s, B0=0.81, B1=0.34, B2=0.63, B3=0.82, B4=0.73, B5=0.67, B6=0.57, B7=0.60, B8=0.56, B9=0.42]"
          ]
        },
        {
          "output_type": "stream",
          "name": "stdout",
          "text": [
            "\n",
            "step 5000: train 0.9744 │ val 1.5370\n"
          ]
        },
        {
          "output_type": "stream",
          "name": "stderr",
          "text": [
            " 92%|█████████▏| 5500/6000 [21:04<01:50,  4.52it/s, B0=0.82, B1=0.32, B2=0.61, B3=0.80, B4=0.73, B5=0.64, B6=0.56, B7=0.57, B8=0.58, B9=0.43]"
          ]
        },
        {
          "output_type": "stream",
          "name": "stdout",
          "text": [
            "\n",
            "step 5500: train 0.9265 │ val 1.5435\n"
          ]
        },
        {
          "output_type": "stream",
          "name": "stderr",
          "text": [
            "100%|█████████▉| 5999/6000 [22:58<00:00,  4.52it/s, B0=0.82, B1=0.32, B2=0.62, B3=0.79, B4=0.71, B5=0.65, B6=0.55, B7=0.56, B8=0.55, B9=0.43]"
          ]
        },
        {
          "output_type": "stream",
          "name": "stdout",
          "text": [
            "\n",
            "step 5999: train 0.8604 │ val 1.5952\n"
          ]
        },
        {
          "output_type": "stream",
          "name": "stderr",
          "text": [
            "100%|██████████| 6000/6000 [23:03<00:00,  4.34it/s, B0=0.82, B1=0.33, B2=0.63, B3=0.79, B4=0.71, B5=0.65, B6=0.55, B7=0.57, B8=0.57, B9=0.43]\n"
          ]
        }
      ],
      "source": [
        "pbar = tqdm(range(max_iters))\n",
        "for it in pbar:\n",
        "    if it % eval_interval == 0 or it == max_iters - 1:\n",
        "        losses = estimate_loss()\n",
        "        print(f\"\\nstep {it}: train {losses['train']:.4f} │ val {losses['val']:.4f}\")\n",
        "\n",
        "    xb, yb = get_batch(\"train\")\n",
        "    logits, loss, gate_means = model(xb, yb, current_iter=it)\n",
        "    optimizer.zero_grad(set_to_none=True)\n",
        "    loss.backward()\n",
        "    optimizer.step()\n",
        "\n",
        "    # log & live display\n",
        "    for i, g in enumerate(gate_means):\n",
        "        activation_log[i].append(g.item())\n",
        "    pbar.set_postfix(\n",
        "        **{f\"B{i}\": f\"{g.item():.2f}\" for i, g in enumerate(gate_means)}\n",
        "    )"
      ]
    },
    {
      "cell_type": "markdown",
      "id": "083acd83",
      "metadata": {
        "id": "083acd83"
      },
      "source": [
        "## Text Generation\n",
        "\n",
        "After training, we can use our model to generate new text. We start with a single token (a newline character in this case) and let the model predict the next token, which we then feed back into the model to predict the next one, and so on."
      ]
    },
    {
      "cell_type": "code",
      "execution_count": 25,
      "id": "320d7d2d",
      "metadata": {
        "id": "320d7d2d",
        "colab": {
          "base_uri": "https://localhost:8080/"
        },
        "outputId": "11125ba7-12ac-4a3f-e285-4e1ab038eb1f"
      },
      "outputs": [
        {
          "output_type": "stream",
          "name": "stdout",
          "text": [
            "\n",
            "Ohcat'sadint!'\n",
            "\n",
            "DUKE OFropes wonder any tellige he wister;\n",
            "And made all right of blushing inner sixthment,\n",
            "Therebs no wife: this letters away in point\n",
            "To move orbad them a to sweet loyaltier.\n",
            "In smel trainess to visit that becomes\n",
            "This present velge of long is sepace.\n",
            "\n",
            "Servingman:\n",
            "Trom, will you go with us?\n",
            "\n",
            "CLAUDIO:\n",
            "I was by the law\n",
            "And more infection call'd it neighborn:\n",
            "The sun hath would, in hungry lovers' place,\n",
            "Ne'er mar had le much vengeance to her.\n",
            "Thou onvey!\n",
            "\n",
            "Lord:\n",
            "And manhood, might t\n"
          ]
        }
      ],
      "source": [
        "# Start generation with a single token (0 is the newline character).\n",
        "context = torch.zeros((1, 1), dtype=torch.long, device=device)\n",
        "# Generate and decode the output.\n",
        "print(decode(m.generate(context, max_new_tokens=500)[0].tolist()))"
      ]
    },
    {
      "cell_type": "markdown",
      "id": "Hz_gUvjFHSTE",
      "metadata": {
        "id": "Hz_gUvjFHSTE"
      },
      "source": [
        "## Analysis of Average Activation"
      ]
    },
    {
      "cell_type": "code",
      "execution_count": 26,
      "id": "tpfmbGlmHzQv",
      "metadata": {
        "id": "tpfmbGlmHzQv",
        "colab": {
          "base_uri": "https://localhost:8080/"
        },
        "outputId": "9467bec1-62d9-42ae-ebd7-4c265af13cf3"
      },
      "outputs": [
        {
          "output_type": "stream",
          "name": "stdout",
          "text": [
            "--- Activation Rate Log ---\n",
            "   block_0_avg_act  block_1_avg_act  block_2_avg_act  block_3_avg_act  \\\n",
            "0         1.000000         1.000000         1.000000         1.000000   \n",
            "1         1.000000         1.000000         1.000000         1.000000   \n",
            "2         0.999878         1.000000         1.000000         1.000000   \n",
            "3         0.999512         0.999817         1.000000         1.000000   \n",
            "4         0.998779         0.999268         0.999329         0.999329   \n",
            "\n",
            "   block_4_avg_act  block_5_avg_act  block_6_avg_act  block_7_avg_act  \\\n",
            "0         1.000000         1.000000         1.000000         1.000000   \n",
            "1         1.000000         1.000000         1.000000         1.000000   \n",
            "2         1.000000         1.000000         1.000000         1.000000   \n",
            "3         1.000000         1.000000         1.000000         1.000000   \n",
            "4         0.999451         0.999451         0.999451         0.999573   \n",
            "\n",
            "   block_8_avg_act  block_9_avg_act  \n",
            "0         1.000000         1.000000  \n",
            "1         1.000000         1.000000  \n",
            "2         1.000000         1.000000  \n",
            "3         1.000000         1.000000  \n",
            "4         0.999634         0.999634  \n",
            "\n",
            "--- Summary Statistics ---\n",
            "       block_0_avg_act  block_1_avg_act  block_2_avg_act  block_3_avg_act  \\\n",
            "count      6000.000000      6000.000000      6000.000000      6000.000000   \n",
            "mean          0.726243         0.458978         0.652410         0.878116   \n",
            "std           0.082341         0.145839         0.078484         0.049878   \n",
            "min           0.564514         0.317139         0.574280         0.769470   \n",
            "25%           0.658676         0.350891         0.618286         0.839844   \n",
            "50%           0.736267         0.412292         0.628174         0.887939   \n",
            "75%           0.806458         0.491211         0.643433         0.909729   \n",
            "max           1.000000         1.000000         1.000000         1.000000   \n",
            "\n",
            "       block_4_avg_act  block_5_avg_act  block_6_avg_act  block_7_avg_act  \\\n",
            "count      6000.000000      6000.000000      6000.000000      6000.000000   \n",
            "mean          0.794783         0.738590         0.650805         0.656151   \n",
            "std           0.068128         0.079298         0.092858         0.081238   \n",
            "min           0.689697         0.626587         0.535583         0.555725   \n",
            "25%           0.736877         0.671997         0.583054         0.597336   \n",
            "50%           0.783081         0.715820         0.621490         0.640625   \n",
            "75%           0.845383         0.803802         0.699844         0.692123   \n",
            "max           1.000000         1.000000         1.000000         1.000000   \n",
            "\n",
            "       block_8_avg_act  block_9_avg_act  \n",
            "count      6000.000000      6000.000000  \n",
            "mean          0.547589         0.450051  \n",
            "std           0.090400         0.100290  \n",
            "min           0.416870         0.400635  \n",
            "25%           0.502670         0.419067  \n",
            "50%           0.545837         0.425049  \n",
            "75%           0.562454         0.433899  \n",
            "max           1.000000         1.000000  \n"
          ]
        }
      ],
      "source": [
        "# This cell works as-is, but the interpretation of the data changes.\n",
        "act_df = pd.DataFrame(activation_log).T\n",
        "act_df.columns = [f\"block_{i}_avg_act\" for i in range(len(model.blocks))]\n",
        "\n",
        "act_df.to_csv(\"block_activation_rates.csv\", index=False)\n",
        "\n",
        "print(\"--- Activation Rate Log ---\")\n",
        "print(act_df.head())\n",
        "print(\"\\n--- Summary Statistics ---\")\n",
        "print(act_df.describe())"
      ]
    }
  ],
  "metadata": {
    "accelerator": "GPU",
    "colab": {
      "gpuType": "A100",
      "provenance": []
    },
    "kernelspec": {
      "display_name": "Python 3",
      "name": "python3"
    },
    "language_info": {
      "codemirror_mode": {
        "name": "ipython",
        "version": 3
      },
      "file_extension": ".py",
      "mimetype": "text/x-python",
      "name": "python",
      "nbconvert_exporter": "python",
      "pygments_lexer": "ipython3",
      "version": "3.10.15"
    }
  },
  "nbformat": 4,
  "nbformat_minor": 5
}