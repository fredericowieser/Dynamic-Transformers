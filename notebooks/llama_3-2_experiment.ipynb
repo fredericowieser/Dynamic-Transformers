{
 "cells": [
  {
   "cell_type": "markdown",
   "id": "ce3cf69c",
   "metadata": {},
   "source": [
    "# Llama 3.2 1B Dynamic Transformers"
   ]
  },
  {
   "cell_type": "markdown",
   "id": "deb02533",
   "metadata": {},
   "source": []
  }
 ],
 "metadata": {
  "language_info": {
   "name": "python"
  }
 },
 "nbformat": 4,
 "nbformat_minor": 5
}
