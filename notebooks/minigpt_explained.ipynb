{
 "cells": [
  {
   "cell_type": "markdown",
   "id": "71b99b56",
   "metadata": {},
   "source": [
    "# Mini GPT with Tiny Shakespeare - Karpathy Tutorial\n",
    "\n",
    "In this notebook we have a very well documented and commented version of mini GPT, a decoder only transformer model. The goal of which we aim to show that this model can learn already in a limited fashion be quite powerful. The goal of this is learning first and foremost though."
   ]
  },
  {
   "cell_type": "code",
   "execution_count": 13,
   "id": "33c6846c",
   "metadata": {},
   "outputs": [
    {
     "data": {
      "text/plain": [
       "<torch._C.Generator at 0x106ee1630>"
      ]
     },
     "execution_count": 13,
     "metadata": {},
     "output_type": "execute_result"
    }
   ],
   "source": [
    "import torch\n",
    "from torch import nn\n",
    "from torch.nn import functional as F\n",
    "from tqdm import tqdm\n",
    "\n",
    "torch.manual_seed(0)"
   ]
  },
  {
   "cell_type": "code",
   "execution_count": 14,
   "id": "f764abc9",
   "metadata": {},
   "outputs": [
    {
     "name": "stdout",
     "output_type": "stream",
     "text": [
      "Using device: mps\n"
     ]
    }
   ],
   "source": [
    "batch_size = 64 # How many independent sequences will we process in parallel?\n",
    "block_size = 256 # What is the maximum context length for predictions?\n",
    "max_iters = 5000 # The total number of training iterations.\n",
    "eval_interval = 500 # How often to evaluate the model's performance.\n",
    "learning_rate = 3e-4 # The step size for our optimizer.\n",
    "eval_iters = 200 # Number of batches to average for loss estimation.\n",
    "n_embd = 384 # The dimensionality of the token embeddings.\n",
    "n_head = 6 # The number of attention heads.\n",
    "n_layer = 6 # The number of transformer blocks.\n",
    "dropout = 0.2 # The probability of dropping out neurons during training.\n",
    "\n",
    "# Automatically select the best available device (CUDA, MPS, or CPU).\n",
    "device = None\n",
    "if torch.cuda.is_available():\n",
    "    device = 'cuda'\n",
    "elif torch.backends.mps.is_available():\n",
    "    device = 'mps'\n",
    "else:\n",
    "    device = 'cpu'\n",
    "print(f\"Using device: {device}\")"
   ]
  },
  {
   "cell_type": "markdown",
   "id": "72a559dc",
   "metadata": {},
   "source": [
    "## Data Loading and Preparation\n",
    "\n",
    "We'll use the Tiny Shakespeare dataset. We first need to load the text and create a vocabulary of all unique characters. Then, we'll create functions to encode a string into a sequence of integers (tokens) and decode a sequence of tokens back into a string."
   ]
  },
  {
   "cell_type": "code",
   "execution_count": 15,
   "id": "fc2a0f6d",
   "metadata": {},
   "outputs": [],
   "source": [
    "# You may need to download the data first\n",
    "# !wget https://raw.githubusercontent.com/karpathy/char-rnn/master/data/tinyshakespeare/input.txt\n",
    "with open('tiny-shakespeare.txt', 'r', encoding='utf-8') as f:\n",
    "    text = f.read()\n",
    "\n",
    "# Find all unique characters in the text.\n",
    "chars = sorted(list(set(text)))\n",
    "vocab_size = len(chars)\n",
    "\n",
    "# Create a mapping from characters to integers (stoi) and vice-versa (itos).\n",
    "stoi = { ch:i for i,ch in enumerate(chars) }\n",
    "itos = { i:ch for i,ch in enumerate(chars) }\n",
    "encode = lambda s: [stoi[c] for c in s] # Encoder: takes a string, outputs a list of integers.\n",
    "decode = lambda l: ''.join([itos[i] for i in l]) # Decoder: takes a list of integers, outputs a string.\n",
    "\n",
    "# Convert the entire dataset into a tensor of tokens.\n",
    "data = torch.tensor(encode(text), dtype=torch.long)\n",
    "\n",
    "# Split the data into training (90%) and validation (10%) sets.\n",
    "n = int(0.9*len(data))\n",
    "train_data = data[:n]\n",
    "val_data = data[n:]"
   ]
  },
  {
   "cell_type": "markdown",
   "id": "174f04fa",
   "metadata": {},
   "source": [
    "## Data Batching\n",
    "\n",
    "This function, `get_batch`, generates a small, random batch of data. For each sequence in the batch, the input `x` is a chunk of text, and the target `y` is the same chunk shifted by one character. This is how the model learns to predict the next character."
   ]
  },
  {
   "cell_type": "code",
   "execution_count": 16,
   "id": "c4835543",
   "metadata": {},
   "outputs": [],
   "source": [
    "def get_batch(split):\n",
    "    # Select the appropriate dataset (train or val).\n",
    "    data = train_data if split == 'train' else val_data\n",
    "    # Generate random starting indices for the batches.\n",
    "    ix = torch.randint(len(data) - block_size, (batch_size,))\n",
    "    # Create the input sequences (x).\n",
    "    x = torch.stack([data[i:i+block_size] for i in ix])\n",
    "    # Create the target sequences (y), which are shifted by one position.\n",
    "    y = torch.stack([data[i+1:i+block_size+1] for i in ix])\n",
    "    # Move the data to the selected device.\n",
    "    x, y = x.to(device), y.to(device)\n",
    "    return x, y"
   ]
  },
  {
   "cell_type": "markdown",
   "id": "a184bc41",
   "metadata": {},
   "source": [
    "## Loss Estimation\n",
    "\n",
    "To avoid noisy loss measurements, we estimate the loss by averaging it over multiple batches. This function is decorated with `@torch.no_grad()` to tell PyTorch not to calculate gradients, which saves memory and computation since we're only evaluating, not training."
   ]
  },
  {
   "cell_type": "code",
   "execution_count": 17,
   "id": "66202e09",
   "metadata": {},
   "outputs": [],
   "source": [
    "@torch.no_grad()\n",
    "def estimate_loss():\n",
    "    out = {}\n",
    "    # Set the model to evaluation mode.\n",
    "    model.eval()\n",
    "    for split in ['train', 'val']:\n",
    "        losses = torch.zeros(eval_iters)\n",
    "        for k in range(eval_iters):\n",
    "            X, Y = get_batch(split)\n",
    "            logits, loss = model(X, Y)\n",
    "            losses[k] = loss.item()\n",
    "        out[split] = losses.mean()\n",
    "    # Set the model back to training mode.\n",
    "    model.train()\n",
    "    return out"
   ]
  },
  {
   "cell_type": "markdown",
   "id": "6b19ebac",
   "metadata": {},
   "source": [
    "## The Transformer Model: A Deep Dive\n",
    "\n",
    "Now we'll build the Transformer model, piece by piece."
   ]
  },
  {
   "cell_type": "markdown",
   "id": "af87482a",
   "metadata": {},
   "source": [
    "### Self-Attention Head\n",
    "\n",
    "Self-attention is the core mechanism of the Transformer. It allows tokens to interact with each other and weigh their importance. Each token produces a **Query** (what I'm looking for), a **Key** (what I contain), and a **Value** (what I'll communicate). The attention score is calculated by taking the dot product of a token's Query with every other token's Key. This score is then scaled and passed through a softmax function to get the weights. Finally, the output is a weighted sum of all tokens' Values.\n",
    "\n",
    "The mathematical formula is: $$ \\text{Attention}(Q, K, V) = \\text{softmax}\\left(\\frac{QK^T}{\\sqrt{d_k}}\\right)V $$"
   ]
  },
  {
   "cell_type": "code",
   "execution_count": 18,
   "id": "b1e61dc4",
   "metadata": {},
   "outputs": [],
   "source": [
    "class Head(nn.Module):\n",
    "    \"\"\" one head of self-attention \"\"\"\n",
    "\n",
    "    def __init__(self, head_size):\n",
    "        super().__init__()\n",
    "        # Linear projections for Key, Query, and Value.\n",
    "        self.key = nn.Linear(n_embd, head_size, bias=False)\n",
    "        self.query = nn.Linear(n_embd, head_size, bias=False)\n",
    "        self.value = nn.Linear(n_embd, head_size, bias=False)\n",
    "        # A buffer for the triangular mask, not a model parameter.\n",
    "        self.register_buffer('tril', torch.tril(torch.ones(block_size, block_size)))\n",
    "\n",
    "        self.dropout = nn.Dropout(dropout)\n",
    "\n",
    "    def forward(self, x):\n",
    "        B,T,C = x.shape\n",
    "        k = self.key(x)   # (B,T,hs)\n",
    "        q = self.query(x) # (B,T,hs)\n",
    "\n",
    "        # Compute attention scores (\"affinities\").\n",
    "        # The dot product between queries and keys determines the attention weights.\n",
    "        # We scale by sqrt(d_k) to prevent the softmax from becoming too saturated.\n",
    "        wei = q @ k.transpose(-2,-1) * k.shape[-1]**-0.5 # (B, T, hs) @ (B, hs, T) -> (B, T, T)\n",
    "\n",
    "        # Apply the causal mask to prevent tokens from attending to future tokens.\n",
    "        # This is crucial for a decoder-style language model.\n",
    "        wei = wei.masked_fill(self.tril[:T, :T] == 0, float('-inf')) # (B, T, T)\n",
    "        # Normalize the scores to get weights.\n",
    "        wei = F.softmax(wei, dim=-1) # (B, T, T)\n",
    "        wei = self.dropout(wei)\n",
    "\n",
    "        # Perform the weighted aggregation of the values.\n",
    "        v = self.value(x) # (B,T,hs)\n",
    "        out = wei @ v # (B, T, T) @ (B, T, hs) -> (B, T, hs)\n",
    "        return out"
   ]
  },
  {
   "cell_type": "markdown",
   "id": "02cfccbc",
   "metadata": {},
   "source": [
    "### Multi-Head Attention\n",
    "\n",
    "Instead of a single attention mechanism, Transformers use multiple attention \"heads\" in parallel. Each head can learn to focus on different types of relationships between tokens. The outputs of all heads are concatenated and projected back to the original embedding dimension."
   ]
  },
  {
   "cell_type": "code",
   "execution_count": 19,
   "id": "74685c1e",
   "metadata": {},
   "outputs": [],
   "source": [
    "class MultiHeadAttention(nn.Module):\n",
    "    \"\"\" multiple heads of self-attention in parallel \"\"\"\n",
    "\n",
    "    def __init__(self, num_heads, head_size):\n",
    "        super().__init__()\n",
    "        # Create a list of attention heads.\n",
    "        self.heads = nn.ModuleList([Head(head_size) for _ in range(num_heads)])\n",
    "        # A linear layer to project the concatenated head outputs.\n",
    "        self.proj = nn.Linear(head_size * num_heads, n_embd)\n",
    "        self.dropout = nn.Dropout(dropout)\n",
    "\n",
    "    def forward(self, x):\n",
    "        # Concatenate the outputs of each head along the last dimension.\n",
    "        out = torch.cat([h(x) for h in self.heads], dim=-1)\n",
    "        # Project the result back to the embedding dimension.\n",
    "        out = self.dropout(self.proj(out))\n",
    "        return out"
   ]
  },
  {
   "cell_type": "markdown",
   "id": "8c158e90",
   "metadata": {},
   "source": [
    "### Feed-Forward Network\n",
    "\n",
    "After the attention mechanism gathers information, a simple feed-forward network processes this information for each token independently. It consists of two linear layers with a ReLU activation in between. This allows the model to perform more complex computations on the aggregated information."
   ]
  },
  {
   "cell_type": "code",
   "execution_count": 20,
   "id": "af4346a8",
   "metadata": {},
   "outputs": [],
   "source": [
    "class FeedFoward(nn.Module):\n",
    "    \"\"\" a simple linear layer followed by a non-linearity \"\"\"\n",
    "\n",
    "    def __init__(self, n_embd):\n",
    "        super().__init__()\n",
    "        self.net = nn.Sequential(\n",
    "            nn.Linear(n_embd, 4 * n_embd), # The inner layer is typically 4x larger.\n",
    "            nn.ReLU(),\n",
    "            nn.Linear(4 * n_embd, n_embd), # Project back to the embedding dimension.\n",
    "            nn.Dropout(dropout),\n",
    "        )\n",
    "\n",
    "    def forward(self, x):\n",
    "        return self.net(x)"
   ]
  },
  {
   "cell_type": "markdown",
   "id": "d03d374a",
   "metadata": {},
   "source": [
    "### Transformer Block\n",
    "\n",
    "A Transformer block combines multi-head attention and a feed-forward network. It also includes two important features: residual connections and layer normalization. \n",
    "\n",
    "- **Residual Connections**: The input to a sub-layer (like attention) is added to its output. This helps prevent the vanishing gradient problem in deep networks.\n",
    "- **Layer Normalization**: This stabilizes the training by normalizing the features for each token across the embedding dimension."
   ]
  },
  {
   "cell_type": "code",
   "execution_count": 21,
   "id": "fdddbb54",
   "metadata": {},
   "outputs": [],
   "source": [
    "class Block(nn.Module):\n",
    "    \"\"\" Transformer block: communication followed by computation \"\"\"\n",
    "\n",
    "    def __init__(self, n_embd, n_head):\n",
    "        super().__init__()\n",
    "        head_size = n_embd // n_head\n",
    "        self.sa = MultiHeadAttention(n_head, head_size)\n",
    "        self.ffwd = FeedFoward(n_embd)\n",
    "        self.ln1 = nn.LayerNorm(n_embd)\n",
    "        self.ln2 = nn.LayerNorm(n_embd)\n",
    "\n",
    "    def forward(self, x):\n",
    "        # The input is first normalized, then passed through self-attention.\n",
    "        # A residual connection adds the original input to the attention output.\n",
    "        x = x + self.sa(self.ln1(x))\n",
    "        # The result is normalized again and passed through the feed-forward network.\n",
    "        # Another residual connection is applied.\n",
    "        x = x + self.ffwd(self.ln2(x))\n",
    "        return x"
   ]
  },
  {
   "cell_type": "markdown",
   "id": "19fcd3d9",
   "metadata": {},
   "source": [
    "### GPT Model\n",
    "\n",
    "Finally, we assemble all the components into the full GPT model. This includes:\n",
    "\n",
    "- **Token Embedding Table**: Converts input token indices into dense vectors (embeddings).\n",
    "- **Positional Embedding Table**: Since self-attention is permutation-invariant, we add positional embeddings to give the model information about the order of tokens.\n",
    "- **A Sequence of Transformer Blocks**: The core of the model where the processing happens.\n",
    "- **A Final Layer Norm and Linear Head**: To produce the final output logits over the vocabulary."
   ]
  },
  {
   "cell_type": "code",
   "execution_count": 22,
   "id": "803b2d1f",
   "metadata": {},
   "outputs": [],
   "source": [
    "class GPT(nn.Module):\n",
    "\n",
    "    def __init__(self):\n",
    "        super().__init__()\n",
    "        # Each token directly reads off the logits for the next token from a lookup table.\n",
    "        self.token_embedding_table = nn.Embedding(vocab_size, n_embd)\n",
    "        self.position_embedding_table = nn.Embedding(block_size, n_embd)\n",
    "        # A sequence of transformer blocks.\n",
    "        self.blocks = nn.Sequential(*[Block(n_embd, n_head=n_head) for _ in range(n_layer)])\n",
    "        self.ln_f = nn.LayerNorm(n_embd) # Final layer norm.\n",
    "        self.lm_head = nn.Linear(n_embd, vocab_size) # The head that produces logits.\n",
    "\n",
    "        self.apply(self._init_weights)\n",
    "\n",
    "    def _init_weights(self, module):\n",
    "        # A common practice for initializing weights in transformer models.\n",
    "        if isinstance(module, nn.Linear):\n",
    "            torch.nn.init.normal_(module.weight, mean=0.0, std=0.02)\n",
    "            if module.bias is not None:\n",
    "                torch.nn.init.zeros_(module.bias)\n",
    "        elif isinstance(module, nn.Embedding):\n",
    "            torch.nn.init.normal_(module.weight, mean=0.0, std=0.02)\n",
    "\n",
    "    def forward(self, idx, targets=None):\n",
    "        B, T = idx.shape\n",
    "\n",
    "        # Get token and position embeddings.\n",
    "        tok_emb = self.token_embedding_table(idx) # (B,T,C)\n",
    "        pos_emb = self.position_embedding_table(torch.arange(T, device=device)) # (T,C)\n",
    "        # Add them together to give the model positional information.\n",
    "        x = tok_emb + pos_emb # (B,T,C)\n",
    "        # Pass through the transformer blocks.\n",
    "        x = self.blocks(x) # (B,T,C)\n",
    "        x = self.ln_f(x) # (B,T,C)\n",
    "        # Get the final logits.\n",
    "        logits = self.lm_head(x) # (B,T,vocab_size)\n",
    "\n",
    "        if targets is None:\n",
    "            loss = None\n",
    "        else:\n",
    "            # Reshape logits and targets for the cross-entropy loss function.\n",
    "            B, T, C = logits.shape\n",
    "            logits = logits.view(B*T, C)\n",
    "            targets = targets.view(B*T)\n",
    "            loss = F.cross_entropy(logits, targets)\n",
    "\n",
    "        return logits, loss\n",
    "\n",
    "    def generate(self, idx, max_new_tokens):\n",
    "        # This method generates new tokens autoregressively.\n",
    "        for _ in range(max_new_tokens):\n",
    "            # Crop the context to the last block_size tokens to save computation.\n",
    "            idx_cond = idx[:, -block_size:]\n",
    "            # Get the predictions for the next token.\n",
    "            logits, loss = self(idx_cond)\n",
    "            # Focus only on the last time step's logits.\n",
    "            logits = logits[:, -1, :] # becomes (B, C)\n",
    "            # Apply softmax to get probabilities.\n",
    "            probs = F.softmax(logits, dim=-1) # (B, C)\n",
    "            # Sample from the distribution to get the next token.\n",
    "            idx_next = torch.multinomial(probs, num_samples=1) # (B, 1)\n",
    "            # Append the sampled index to the running sequence.\n",
    "            idx = torch.cat((idx, idx_next), dim=1) # (B, T+1)\n",
    "        return idx"
   ]
  },
  {
   "cell_type": "markdown",
   "id": "ae92f0a6",
   "metadata": {},
   "source": [
    "## Model Training\n",
    "\n",
    "Now we can instantiate the model and the optimizer. We'll use the AdamW optimizer, which is a standard choice for training Transformers. The training loop will repeatedly sample a batch of data, calculate the loss, and update the model's parameters."
   ]
  },
  {
   "cell_type": "code",
   "execution_count": 23,
   "id": "a2f242d8",
   "metadata": {},
   "outputs": [
    {
     "name": "stdout",
     "output_type": "stream",
     "text": [
      "10.788929 M parameters\n"
     ]
    }
   ],
   "source": [
    "model = GPT()\n",
    "m = model.to(device)\n",
    "# Print the number of parameters in the model.\n",
    "print(sum(p.numel() for p in m.parameters())/1e6, 'M parameters')\n",
    "\n",
    "# Create a PyTorch optimizer.\n",
    "optimizer = torch.optim.AdamW(model.parameters(), lr=learning_rate)"
   ]
  },
  {
   "cell_type": "code",
   "execution_count": null,
   "id": "62e419a1",
   "metadata": {},
   "outputs": [
    {
     "name": "stderr",
     "output_type": "stream",
     "text": [
      "  0%|          | 0/5000 [00:00<?, ?it/s]"
     ]
    },
    {
     "name": "stdout",
     "output_type": "stream",
     "text": [
      "step 0: train loss 4.2134, val loss 4.2147\n"
     ]
    },
    {
     "name": "stderr",
     "output_type": "stream",
     "text": [
      "  2%|▏         | 122/5000 [02:49<58:15,  1.40it/s]  "
     ]
    }
   ],
   "source": [
    "for iter in tqdm(range(max_iters)):\n",
    "\n",
    "    # Every once in a while, evaluate the loss on train and val sets.\n",
    "    if iter % eval_interval == 0 or iter == max_iters - 1:\n",
    "        losses = estimate_loss()\n",
    "        print(f\"step {iter}: train loss {losses['train']:.4f}, val loss {losses['val']:.4f}\")\n",
    "\n",
    "    # Sample a batch of data.\n",
    "    xb, yb = get_batch('train')\n",
    "\n",
    "    # Evaluate the loss.\n",
    "    logits, loss = model(xb, yb)\n",
    "    # Reset gradients from the previous iteration.\n",
    "    optimizer.zero_grad(set_to_none=True)\n",
    "    # Compute gradients for this batch (backpropagation).\n",
    "    loss.backward()\n",
    "    # Update the model's parameters.\n",
    "    optimizer.step()"
   ]
  },
  {
   "cell_type": "markdown",
   "id": "083acd83",
   "metadata": {},
   "source": [
    "## Text Generation\n",
    "\n",
    "After training, we can use our model to generate new text. We start with a single token (a newline character in this case) and let the model predict the next token, which we then feed back into the model to predict the next one, and so on."
   ]
  },
  {
   "cell_type": "code",
   "execution_count": null,
   "id": "320d7d2d",
   "metadata": {},
   "outputs": [],
   "source": [
    "# Start generation with a single token (0 is the newline character).\n",
    "context = torch.zeros((1, 1), dtype=torch.long, device=device)\n",
    "# Generate and decode the output.\n",
    "print(decode(m.generate(context, max_new_tokens=500)[0].tolist()))"
   ]
  }
 ],
 "metadata": {
  "kernelspec": {
   "display_name": ".venv",
   "language": "python",
   "name": "python3"
  },
  "language_info": {
   "codemirror_mode": {
    "name": "ipython",
    "version": 3
   },
   "file_extension": ".py",
   "mimetype": "text/x-python",
   "name": "python",
   "nbconvert_exporter": "python",
   "pygments_lexer": "ipython3",
   "version": "3.10.15"
  }
 },
 "nbformat": 4,
 "nbformat_minor": 5
}
