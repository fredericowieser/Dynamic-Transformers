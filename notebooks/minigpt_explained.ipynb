{
 "cells": [
  {
   "cell_type": "markdown",
   "id": "71b99b56",
   "metadata": {},
   "source": [
    "# Mini GPT with Tiny Shakespeare - Karpathy Tutorial\n",
    "\n",
    "In this notebook we have a very well documented and commented version of mini GPT, a decoder only transformer model. The goal of which we aim to show that this model can learn already in a limited fashion be quite powerful. The goal of this is learning first and foremost though."
   ]
  },
  {
   "cell_type": "code",
   "execution_count": null,
   "id": "33c6846c",
   "metadata": {},
   "outputs": [
    {
     "ename": "",
     "evalue": "",
     "output_type": "error",
     "traceback": [
      "\u001b[1;31mRunning cells with 'Dynamic-Hierarchical-Transformer (Python 3.10.15)' requires the ipykernel package.\n",
      "\u001b[1;31mInstall 'ipykernel' into the Python environment. \n",
      "\u001b[1;31mCommand: '/Users/fredericowieser/Documents/flow/_work/___HUAWEI_NOAHS_ARK/Dynamic-Hierarchical-Transformer/.venv/bin/python -m pip install ipykernel -U --force-reinstall'"
     ]
    }
   ],
   "source": [
    "import torch\n",
    "from torch import nn\n",
    "from torch.nn import functional as F\n",
    "from tqdm import tqdm"
   ]
  },
  {
   "cell_type": "code",
   "execution_count": null,
   "id": "f764abc9",
   "metadata": {},
   "outputs": [],
   "source": []
  }
 ],
 "metadata": {
  "kernelspec": {
   "display_name": "Dynamic-Hierarchical-Transformer",
   "language": "python",
   "name": "python3"
  },
  "language_info": {
   "name": "python",
   "version": "3.10.15"
  }
 },
 "nbformat": 4,
 "nbformat_minor": 5
}
