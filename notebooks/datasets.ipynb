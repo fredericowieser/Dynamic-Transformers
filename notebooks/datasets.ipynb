{
 "cells": [
  {
   "cell_type": "markdown",
   "id": "38fc1e25",
   "metadata": {},
   "source": [
    "# Data Cleaning and Managing"
   ]
  },
  {
   "cell_type": "code",
   "execution_count": 4,
   "id": "1646d0f6",
   "metadata": {},
   "outputs": [
    {
     "name": "stderr",
     "output_type": "stream",
     "text": [
      "Repo card metadata block was not found. Setting CardData to empty.\n"
     ]
    },
    {
     "name": "stdout",
     "output_type": "stream",
     "text": [
      "Column names: ['text']\n",
      "Type of one example: <class 'dict'>\n",
      "First example repr: {'text': '### Human: Can you write a short introduction about the relevance of the term \"monopsony\" in economics? Please use examples related to potential monopsonies in the labour market and cite relevant research.### Assistant: \"Monopsony\" refers to a market structure where there is only one buyer for a particular good or service. In economics, this term is particularly relevant in the labor market, where a monopsony employer has significant power over the wages and working conditions of their employees. The presence of a monopsony can result in lower wages and reduced employment opportunities for workers, as the employer has little incentive to increase wages or provide better working conditions.\\n\\nRecent research has identified potential monopsonies in industries such as retail and fast food, where a few large companies control a significant portion of the market (Bivens & Mishel, 2013). In these industries, workers often face low wages, limited benefits, and reduced bargaining power, leading to a situation where they are dependent on the employer for their livelihood. This dependence can result in further suppression of wages and a decline in working conditions.\\n\\nOverall, the concept of monopsony is essential to understanding the dynamics of labor markets and the impact of market power on workers. Further research is needed to understand the extent and impact of monopsonies on the economy and to develop policies to address this issue.\\n\\nReferences:\\nBivens, J., & Mishel, L. (2013). The Pay of Corporate Executives and Financial Professionals as Evidence of Rents in Top 1 Percent Incomes. Journal of Economic Perspectives, 27(3), 57-78.### Human: Now explain it to a dog'}\n",
      "\n",
      "Example 0 (first 200 chars):\n",
      "text\n",
      "--------------------------------------------------------------------------------\n"
     ]
    }
   ],
   "source": [
    "from datasets import load_dataset\n",
    "\n",
    "# Load a small slice of the data\n",
    "ds = load_dataset(\"timdettmers/openassistant-guanaco\", split=\"train[:3%]\")\n",
    "\n",
    "# 1) Inspect the dataset structure\n",
    "print(\"Column names:\", ds.column_names)\n",
    "print(\"Type of one example:\", type(ds[0]))\n",
    "print(\"First example repr:\", ds[0])\n",
    "print()\n",
    "\n",
    "# 2) Print the first 3 examples (robust to dict or str)\n",
    "for i, ex in enumerate(ds[:3]):\n",
    "    if isinstance(ex, dict):\n",
    "        # e.g. {\"text\": \"...\"} or some other key\n",
    "        text = ex.get(\"text\", next(iter(ex.values())))\n",
    "    else:\n",
    "        # ex is just a string\n",
    "        text = ex\n",
    "    print(f\"Example {i} (first 200 chars):\")\n",
    "    print(text[:200].replace(\"\\n\", \"\\\\n\"))\n",
    "    print(\"-\" * 80)"
   ]
  },
  {
   "cell_type": "code",
   "execution_count": null,
   "id": "7e58a025",
   "metadata": {},
   "outputs": [],
   "source": []
  }
 ],
 "metadata": {
  "kernelspec": {
   "display_name": "base",
   "language": "python",
   "name": "python3"
  },
  "language_info": {
   "codemirror_mode": {
    "name": "ipython",
    "version": 3
   },
   "file_extension": ".py",
   "mimetype": "text/x-python",
   "name": "python",
   "nbconvert_exporter": "python",
   "pygments_lexer": "ipython3",
   "version": "3.12.4"
  }
 },
 "nbformat": 4,
 "nbformat_minor": 5
}
